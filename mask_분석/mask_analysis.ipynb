{
 "cells": [
  {
   "cell_type": "markdown",
   "id": "ecb5de8f",
   "metadata": {},
   "source": [
    "# FastMRI 2025 – Mask Analysis & Duplication\n",
    "이 노트북은 *train / val / leaderboard × brain / knee × acc4 / acc8* 데이터의 k‑space 마스크를 분석하고, 분석 결과를 기반으로 **DuplicateMaskDataset**의 가속도 설정을 자동 추출·검증하는 워크플로를 제공합니다.\n",
    "\n",
    "**▼ 사용 방법 요약**\n",
    "1. `DATA_DIR`만 본인 경로로 수정 → 세션 전체 실행 (Ctrl + F9)\n",
    "2. Section 5에서 ***자동 제안***된 `accel_cfgs` YAML 블록을 `maskDuplicate/*.yaml`에 복사\n",
    "3. Section 6에서 시각화로 원본/복제 mask가 거의 일치하는지 확인\n"
   ]
  },
  {
   "cell_type": "code",
   "execution_count": 1,
   "id": "93a03103",
   "metadata": {},
   "outputs": [],
   "source": [
    "\n",
    "import os, re, glob, json, math, warnings\n",
    "from collections import defaultdict\n",
    "import numpy as np\n",
    "import matplotlib.pyplot as plt\n",
    "import h5py, cv2\n",
    "from skimage.metrics import structural_similarity as ssim\n",
    "from tqdm.auto import tqdm\n",
    "from subsample import create_mask_for_mask_type\n",
    "from duplicate_dataset import DuplicateMaskDataset\n",
    "from transforms import DataTransform, MaskApplyTransform\n",
    "import torch\n",
    "\n",
    "plt.rcParams['figure.dpi'] = 120\n",
    "warnings.filterwarnings(\"ignore\", category=RuntimeWarning)\n",
    "\n",
    "# ===== 수정하세요 =====\n",
    "DATA_DIR = \"/home/swpants05/Desktop/2025_FastMri/Data\"\n"
   ]
  },
  {
   "cell_type": "code",
   "execution_count": 2,
   "id": "e6243f2b",
   "metadata": {},
   "outputs": [
    {
     "name": "stdout",
     "output_type": "stream",
     "text": [
      "{'train': {'image': 340, 'kspace': 340}, 'val': {'image': 60, 'kspace': 60}, 'leaderboard': {'image': 116, 'kspace': 116}}\n"
     ]
    }
   ],
   "source": [
    "\n",
    "REG = re.compile(r\"(brain|knee)_acc([48])_(\\d+)\\.h5\")\n",
    "LB_REG = re.compile(r\"(brain|knee)_test(\\d+)\\.h5\")\n",
    "\n",
    "def list_files(split:str, dtype:str):\n",
    "    if split in (\"train\", \"val\"):\n",
    "        pattern = os.path.join(DATA_DIR, split, dtype, \"*.h5\")\n",
    "        return sorted(glob.glob(pattern))\n",
    "    elif split == \"leaderboard\":\n",
    "        pattern = os.path.join(DATA_DIR, split, \"acc*\", dtype, \"*.h5\")\n",
    "        return sorted(glob.glob(pattern))\n",
    "    else:\n",
    "        return []\n",
    "\n",
    "files = {sp:{tp:list_files(sp,tp) for tp in (\"image\",\"kspace\")} for sp in (\"train\",\"val\",\"leaderboard\")}\n",
    "print({k:{t:len(v) for t,v in d.items()} for k,d in files.items()})\n"
   ]
  },
  {
   "cell_type": "code",
   "execution_count": 3,
   "id": "cbff801a",
   "metadata": {},
   "outputs": [
    {
     "data": {
      "application/vnd.jupyter.widget-view+json": {
       "model_id": "c91aec18bec548f28655ddb20f96bcbc",
       "version_major": 2,
       "version_minor": 0
      },
      "text/plain": [
       "train-mask:   0%|          | 0/340 [00:00<?, ?it/s]"
      ]
     },
     "metadata": {},
     "output_type": "display_data"
    },
    {
     "data": {
      "application/vnd.jupyter.widget-view+json": {
       "model_id": "80e79bf3b47f4c42b31082765e430664",
       "version_major": 2,
       "version_minor": 0
      },
      "text/plain": [
       "val-mask:   0%|          | 0/60 [00:00<?, ?it/s]"
      ]
     },
     "metadata": {},
     "output_type": "display_data"
    },
    {
     "data": {
      "application/vnd.jupyter.widget-view+json": {
       "model_id": "fabcc5035951405db8fd22d27619eb73",
       "version_major": 2,
       "version_minor": 0
      },
      "text/plain": [
       "leaderboard-mask:   0%|          | 0/116 [00:00<?, ?it/s]"
      ]
     },
     "metadata": {},
     "output_type": "display_data"
    },
    {
     "name": "stdout",
     "output_type": "stream",
     "text": [
      "Collected 516 masks\n"
     ]
    }
   ],
   "source": [
    "\n",
    "def load_mask(h5_path):\n",
    "    with h5py.File(h5_path,'r') as f:\n",
    "        return f['mask'][()].astype(bool) if 'mask' in f else None\n",
    "\n",
    "def accel(mask):\n",
    "    return round(len(mask)/mask.sum(),2) if mask is not None else np.nan\n",
    "\n",
    "mask_stats=[]\n",
    "for split in (\"train\",\"val\",\"leaderboard\"):\n",
    "    for ks_path in tqdm(files[split].get(\"kspace\",[]), desc=f\"{split}-mask\"):\n",
    "        m=load_mask(ks_path); \n",
    "        if m is None: continue\n",
    "        fname=os.path.basename(ks_path)\n",
    "        acc_folder=\"4\" if \"/acc4/\" in ks_path else (\"8\" if \"/acc8/\" in ks_path else None)\n",
    "        mm=REG.search(fname)\n",
    "        if mm:\n",
    "            body, acc, idx = mm.groups()\n",
    "        else:\n",
    "            mm=LB_REG.search(fname)\n",
    "            if not mm: continue\n",
    "            body, idx = mm.groups(); acc=acc_folder or \"?\"\n",
    "        mask_stats.append(dict(split=split,body=body,acc=acc,id=idx,accel=accel(m),mask=m))\n",
    "print(f\"Collected {len(mask_stats)} masks\")\n"
   ]
  },
  {
   "cell_type": "code",
   "execution_count": 4,
   "id": "2525f981",
   "metadata": {},
   "outputs": [
    {
     "data": {
      "text/html": [
       "<div>\n",
       "<style scoped>\n",
       "    .dataframe tbody tr th:only-of-type {\n",
       "        vertical-align: middle;\n",
       "    }\n",
       "\n",
       "    .dataframe tbody tr th {\n",
       "        vertical-align: top;\n",
       "    }\n",
       "\n",
       "    .dataframe thead th {\n",
       "        text-align: right;\n",
       "    }\n",
       "</style>\n",
       "<table border=\"1\" class=\"dataframe\">\n",
       "  <thead>\n",
       "    <tr style=\"text-align: right;\">\n",
       "      <th></th>\n",
       "      <th></th>\n",
       "      <th></th>\n",
       "      <th>count</th>\n",
       "      <th>mean</th>\n",
       "      <th>std</th>\n",
       "      <th>min</th>\n",
       "      <th>25%</th>\n",
       "      <th>50%</th>\n",
       "      <th>75%</th>\n",
       "      <th>max</th>\n",
       "    </tr>\n",
       "    <tr>\n",
       "      <th>body</th>\n",
       "      <th>acc</th>\n",
       "      <th>split</th>\n",
       "      <th></th>\n",
       "      <th></th>\n",
       "      <th></th>\n",
       "      <th></th>\n",
       "      <th></th>\n",
       "      <th></th>\n",
       "      <th></th>\n",
       "      <th></th>\n",
       "    </tr>\n",
       "  </thead>\n",
       "  <tbody>\n",
       "    <tr>\n",
       "      <th rowspan=\"6\" valign=\"top\">brain</th>\n",
       "      <th rowspan=\"3\" valign=\"top\">4</th>\n",
       "      <th>leaderboard</th>\n",
       "      <td>29.0</td>\n",
       "      <td>3.215862</td>\n",
       "      <td>5.012300e-03</td>\n",
       "      <td>3.21</td>\n",
       "      <td>3.21</td>\n",
       "      <td>3.22</td>\n",
       "      <td>3.22</td>\n",
       "      <td>3.22</td>\n",
       "    </tr>\n",
       "    <tr>\n",
       "      <th>train</th>\n",
       "      <td>85.0</td>\n",
       "      <td>3.219647</td>\n",
       "      <td>1.856173e-03</td>\n",
       "      <td>3.21</td>\n",
       "      <td>3.22</td>\n",
       "      <td>3.22</td>\n",
       "      <td>3.22</td>\n",
       "      <td>3.22</td>\n",
       "    </tr>\n",
       "    <tr>\n",
       "      <th>val</th>\n",
       "      <td>15.0</td>\n",
       "      <td>3.220000</td>\n",
       "      <td>4.596760e-16</td>\n",
       "      <td>3.22</td>\n",
       "      <td>3.22</td>\n",
       "      <td>3.22</td>\n",
       "      <td>3.22</td>\n",
       "      <td>3.22</td>\n",
       "    </tr>\n",
       "    <tr>\n",
       "      <th rowspan=\"3\" valign=\"top\">8</th>\n",
       "      <th>leaderboard</th>\n",
       "      <td>29.0</td>\n",
       "      <td>5.119310</td>\n",
       "      <td>2.506150e-02</td>\n",
       "      <td>5.09</td>\n",
       "      <td>5.09</td>\n",
       "      <td>5.14</td>\n",
       "      <td>5.14</td>\n",
       "      <td>5.14</td>\n",
       "    </tr>\n",
       "    <tr>\n",
       "      <th>train</th>\n",
       "      <td>85.0</td>\n",
       "      <td>5.136471</td>\n",
       "      <td>1.288279e-02</td>\n",
       "      <td>5.09</td>\n",
       "      <td>5.14</td>\n",
       "      <td>5.14</td>\n",
       "      <td>5.14</td>\n",
       "      <td>5.14</td>\n",
       "    </tr>\n",
       "    <tr>\n",
       "      <th>val</th>\n",
       "      <td>15.0</td>\n",
       "      <td>5.140000</td>\n",
       "      <td>0.000000e+00</td>\n",
       "      <td>5.14</td>\n",
       "      <td>5.14</td>\n",
       "      <td>5.14</td>\n",
       "      <td>5.14</td>\n",
       "      <td>5.14</td>\n",
       "    </tr>\n",
       "    <tr>\n",
       "      <th rowspan=\"6\" valign=\"top\">knee</th>\n",
       "      <th rowspan=\"3\" valign=\"top\">4</th>\n",
       "      <th>leaderboard</th>\n",
       "      <td>29.0</td>\n",
       "      <td>3.221724</td>\n",
       "      <td>1.136064e-02</td>\n",
       "      <td>3.19</td>\n",
       "      <td>3.21</td>\n",
       "      <td>3.23</td>\n",
       "      <td>3.23</td>\n",
       "      <td>3.23</td>\n",
       "    </tr>\n",
       "    <tr>\n",
       "      <th>train</th>\n",
       "      <td>85.0</td>\n",
       "      <td>3.221529</td>\n",
       "      <td>9.941002e-03</td>\n",
       "      <td>3.21</td>\n",
       "      <td>3.21</td>\n",
       "      <td>3.23</td>\n",
       "      <td>3.23</td>\n",
       "      <td>3.24</td>\n",
       "    </tr>\n",
       "    <tr>\n",
       "      <th>val</th>\n",
       "      <td>15.0</td>\n",
       "      <td>3.222000</td>\n",
       "      <td>1.082326e-02</td>\n",
       "      <td>3.21</td>\n",
       "      <td>3.21</td>\n",
       "      <td>3.23</td>\n",
       "      <td>3.23</td>\n",
       "      <td>3.24</td>\n",
       "    </tr>\n",
       "    <tr>\n",
       "      <th rowspan=\"3\" valign=\"top\">8</th>\n",
       "      <th>leaderboard</th>\n",
       "      <td>29.0</td>\n",
       "      <td>5.071724</td>\n",
       "      <td>4.036167e-02</td>\n",
       "      <td>5.03</td>\n",
       "      <td>5.03</td>\n",
       "      <td>5.11</td>\n",
       "      <td>5.11</td>\n",
       "      <td>5.11</td>\n",
       "    </tr>\n",
       "    <tr>\n",
       "      <th>train</th>\n",
       "      <td>85.0</td>\n",
       "      <td>5.078706</td>\n",
       "      <td>3.966491e-02</td>\n",
       "      <td>5.01</td>\n",
       "      <td>5.03</td>\n",
       "      <td>5.11</td>\n",
       "      <td>5.11</td>\n",
       "      <td>5.11</td>\n",
       "    </tr>\n",
       "    <tr>\n",
       "      <th>val</th>\n",
       "      <td>15.0</td>\n",
       "      <td>5.060000</td>\n",
       "      <td>3.872983e-02</td>\n",
       "      <td>5.03</td>\n",
       "      <td>5.03</td>\n",
       "      <td>5.03</td>\n",
       "      <td>5.11</td>\n",
       "      <td>5.11</td>\n",
       "    </tr>\n",
       "  </tbody>\n",
       "</table>\n",
       "</div>"
      ],
      "text/plain": [
       "                       count      mean           std   min   25%   50%   75%  \\\n",
       "body  acc split                                                                \n",
       "brain 4   leaderboard   29.0  3.215862  5.012300e-03  3.21  3.21  3.22  3.22   \n",
       "          train         85.0  3.219647  1.856173e-03  3.21  3.22  3.22  3.22   \n",
       "          val           15.0  3.220000  4.596760e-16  3.22  3.22  3.22  3.22   \n",
       "      8   leaderboard   29.0  5.119310  2.506150e-02  5.09  5.09  5.14  5.14   \n",
       "          train         85.0  5.136471  1.288279e-02  5.09  5.14  5.14  5.14   \n",
       "          val           15.0  5.140000  0.000000e+00  5.14  5.14  5.14  5.14   \n",
       "knee  4   leaderboard   29.0  3.221724  1.136064e-02  3.19  3.21  3.23  3.23   \n",
       "          train         85.0  3.221529  9.941002e-03  3.21  3.21  3.23  3.23   \n",
       "          val           15.0  3.222000  1.082326e-02  3.21  3.21  3.23  3.23   \n",
       "      8   leaderboard   29.0  5.071724  4.036167e-02  5.03  5.03  5.11  5.11   \n",
       "          train         85.0  5.078706  3.966491e-02  5.01  5.03  5.11  5.11   \n",
       "          val           15.0  5.060000  3.872983e-02  5.03  5.03  5.03  5.11   \n",
       "\n",
       "                        max  \n",
       "body  acc split              \n",
       "brain 4   leaderboard  3.22  \n",
       "          train        3.22  \n",
       "          val          3.22  \n",
       "      8   leaderboard  5.14  \n",
       "          train        5.14  \n",
       "          val          5.14  \n",
       "knee  4   leaderboard  3.23  \n",
       "          train        3.24  \n",
       "          val          3.24  \n",
       "      8   leaderboard  5.11  \n",
       "          train        5.11  \n",
       "          val          5.11  "
      ]
     },
     "metadata": {},
     "output_type": "display_data"
    },
    {
     "data": {
      "image/png": "[encoded data removed]",
      "text/plain": [
       "<Figure size 600x360 with 1 Axes>"
      ]
     },
     "metadata": {},
     "output_type": "display_data"
    },
    {
     "name": "stdout",
     "output_type": "stream",
     "text": [
      "\n",
      "\n",
      "### ⬇⬇ 복사해서 maskDuplicate yaml 에 넣으세요 ⬇⬇\n",
      "\n",
      "accel_cfgs:\n",
      "# ---- brain ----\n",
      "  - {accel: 4, cf: [0.124, 0.186], mask_type: random}\n",
      "  - {accel: 8, cf: [0.078, 0.116], mask_type: random}\n",
      "  # ---- knee ----\n",
      "  - {accel: 4, cf: [0.124, 0.186], mask_type: random}\n",
      "  - {accel: 8, cf: [0.079, 0.119], mask_type: random}\n"
     ]
    }
   ],
   "source": [
    "\n",
    "import pandas as pd, matplotlib\n",
    "df = pd.DataFrame(mask_stats)\n",
    "display(df.groupby(['body','acc','split'])['accel'].describe())\n",
    "\n",
    "# 히스토그램\n",
    "plt.figure(figsize=(5,3))\n",
    "for acc,col in (('4','C0'),('8','C1')):\n",
    "    vals=df[df.acc==acc]['accel']; \n",
    "    plt.hist(vals,bins=20,alpha=.5,label=f'acc{acc}',color=col)\n",
    "plt.legend(); plt.title('Acceleration distribution'); plt.show()\n",
    "\n",
    "# === 자동 제안 accel_cfgs ===\n",
    "def suggest_cfg(df,body):\n",
    "    out=[]\n",
    "    for acc in ['4','8']:\n",
    "        sub=df[(df.body==body)&(df.acc==acc)]\n",
    "        if sub.empty: continue\n",
    "        cf_est = np.round(0.5/sub.accel.mean(),3)   # heuristic\n",
    "        out.append(dict(accel=int(acc), cf=[float(cf_est*0.8), float(cf_est*1.2)], mask_type='random'))\n",
    "    return out\n",
    "brain_cfg=suggest_cfg(df,'brain'); knee_cfg=suggest_cfg(df,'knee')\n",
    "yaml_block=\"\"\"accel_cfgs:\n",
    "# ---- brain ----\n",
    "\"\"\"+\"\\n\".join([f\"  - {{accel: {d['accel']}, cf: [{d['cf'][0]:.3f}, {d['cf'][1]:.3f}], mask_type: random}}\" for d in brain_cfg])+\"\\n  # ---- knee ----\\n\"+\"\\n\".join([f\"  - {{accel: {d['accel']}, cf: [{d['cf'][0]:.3f}, {d['cf'][1]:.3f}], mask_type: random}}\" for d in knee_cfg])\n",
    "print(\"\\n\\n### ⬇⬇ 복사해서 maskDuplicate yaml 에 넣으세요 ⬇⬇\\n\")\n",
    "print(yaml_block)\n"
   ]
  },
  {
   "cell_type": "code",
   "execution_count": 5,
   "id": "3e105780",
   "metadata": {},
   "outputs": [],
   "source": [
    "\n",
    "def plot_mask_matrix(body='brain', acc='4', split='train'):\n",
    "    sel=[d for d in mask_stats if d['body']==body and d['acc']==acc and d['split']==split]\n",
    "    if not sel: \n",
    "        print('No data'); return\n",
    "    mats=[d['mask'].astype(int) for d in sel]\n",
    "    mids=[len(m)//2 for m in mats]; widths=[len(m) for m in mats]\n",
    "    max_w=max(widths); pivot=max_w//2\n",
    "    aligned=[]\n",
    "    for m,mid in zip(mats,mids):\n",
    "        left=pivot-mid; right=max_w-left-len(m)\n",
    "        aligned.append(np.pad(m,(left,right)))\n",
    "    aligned=np.stack(aligned)\n",
    "    plt.figure(figsize=(6,0.2*len(aligned)+3))\n",
    "    plt.imshow(aligned,aspect='auto',cmap='Greys',extent=[-pivot,max_w-pivot,0,len(aligned)])\n",
    "    plt.axvline(0,color='r'); plt.title(f'{split}-{body}-acc{acc}')\n",
    "    plt.xlabel('k-space readout'); plt.show()\n"
   ]
  },
  {
   "cell_type": "code",
   "execution_count": 7,
   "id": "af5e9114",
   "metadata": {},
   "outputs": [
    {
     "name": "stdout",
     "output_type": "stream",
     "text": [
      "Example file: /home/swpants05/Desktop/2025_FastMri/Data/train/kspace/brain_acc4_1.h5\n",
      "cats: brain_x4 brain_x8   mask shapes: (1, 768, 1) (1, 768, 1)\n"
     ]
    },
    {
     "data": {
      "image/png": "[encoded data removed]",
      "text/plain": [
       "<Figure size 960x240 with 2 Axes>"
      ]
     },
     "metadata": {},
     "output_type": "display_data"
    }
   ],
   "source": [
    "\n",
    "### DuplicateMaskDataset sanity check ###\n",
    "from transforms import CenterCropOrPad\n",
    "\n",
    "sample_path = files['train']['kspace'][0]\n",
    "print('Example file:', sample_path)\n",
    "# minimal SliceData wrapper just for one volume\n",
    "class MiniSlice(torch.utils.data.Dataset):\n",
    "    def __init__(self, path):\n",
    "        self.path=path\n",
    "        with h5py.File(path,'r') as f:\n",
    "            self.slices=f['kspace'].shape[0]\n",
    "    def __len__(self): return self.slices\n",
    "    def __getitem__(self,idx):\n",
    "        with h5py.File(self.path,'r') as f:\n",
    "            return (f['mask'][idx], f['kspace'][idx], -1, -1, self.path, idx, 'brain_x4')\n",
    "\n",
    "base=MiniSlice(sample_path)\n",
    "cfgs=[dict(accel=4,cf=[0.06,0.1],mask_type='random'),\n",
    "      dict(accel=8,cf=0.04,mask_type='equispaced')]\n",
    "dup=DuplicateMaskDataset(base_ds=base, accel_cfgs=cfgs)\n",
    "m0,_,_,_,_,_,cat0=dup[0]; m1,_,_,_,_,_,cat1=dup[1]\n",
    "print('cats:',cat0,cat1,'  mask shapes:',m0.shape,m1.shape)\n",
    "plt.figure(figsize=(8,2))\n",
    "plt.subplot(1,2,1); plt.title(cat0); plt.plot(m0.squeeze())\n",
    "plt.subplot(1,2,2); plt.title(cat1); plt.plot(m1.squeeze())\n",
    "plt.tight_layout(); plt.show()\n"
   ]
  },
  {
   "cell_type": "code",
   "execution_count": null,
   "id": "d0a7bdb4-fc5a-4157-8f32-2e8a9aa2e69e",
   "metadata": {},
   "outputs": [],
   "source": []
  }
 ],
 "metadata": {
  "kernelspec": {
   "display_name": "Python 3 (ipykernel)",
   "language": "python",
   "name": "python3"
  },
  "language_info": {
   "codemirror_mode": {
    "name": "ipython",
    "version": 3
   },
   "file_extension": ".py",
   "mimetype": "text/x-python",
   "name": "python",
   "nbconvert_exporter": "python",
   "pygments_lexer": "ipython3",
   "version": "3.11.4"
  }
 },
 "nbformat": 4,
 "nbformat_minor": 5
}
