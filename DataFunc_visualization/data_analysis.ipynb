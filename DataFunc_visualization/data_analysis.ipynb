{
 "cells": [
  {
   "cell_type": "markdown",
   "metadata": {},
   "source": [
    "# FastMRI 데이터 분석 및 검증\n",
    "\n",
    "이 노트북은 `data1` 폴더에 있는 FastMRI 챌린지 데이터셋을 분석하고 검증하는 작업을 수행합니다.\n",
    "\n",
    "**작업 목표:**\n",
    "1.  **데이터 통계 분석**: 모든 k-space HDF5 파일을 순회하며 `slice`, `coil`, `H`, `W` 차원의 분포와 코일 개수의 통계를 분석합니다.\n",
    "2.  **동일 스캔 검증**: `train` 데이터셋 내에서, 가속도만 다른 `_acc4` 파일과 `_acc8` 파일이 동일한 원본 k-space에서 왔는지 검증합니다."
   ]
  },
  {
   "cell_type": "markdown",
   "metadata": {},
   "source": [
    "## 1. 환경 설정 및 라이브러리 임포트"
   ]
  },
  {
   "cell_type": "code",
   "execution_count": 13,
   "metadata": {},
   "outputs": [],
   "source": [
    "import h5py\n",
    "import numpy as np\n",
    "import pandas as pd\n",
    "from pathlib import Path\n",
    "from tqdm import tqdm\n",
    "import warnings\n",
    "\n",
    "warnings.filterwarnings('ignore')\n",
    "pd.set_option('display.width', 100)"
   ]
  },
  {
   "cell_type": "markdown",
   "metadata": {},
   "source": [
    "## 2. 데이터 통계 분석\n",
    "\n",
    "모든 `kspace` 폴더를 순회하여 각 `.h5` 파일의 `kspace` 텐서 형태 정보를 수집하고 분석합니다."
   ]
  },
  {
   "cell_type": "code",
   "execution_count": 14,
   "metadata": {},
   "outputs": [
    {
     "name": "stderr",
     "output_type": "stream",
     "text": [
      "Exception ignored in: <function tqdm.__del__ at 0x108e1a710>\n",
      "Traceback (most recent call last):\n",
      "  File \"/opt/anaconda3/envs/fmri/lib/python3.10/site-packages/tqdm/std.py\", line 1148, in __del__\n",
      "    self.close()\n",
      "  File \"/opt/anaconda3/envs/fmri/lib/python3.10/site-packages/tqdm/notebook.py\", line 279, in close\n",
      "    self.disp(bar_style='danger', check_delay=False)\n",
      "AttributeError: 'tqdm_notebook' object has no attribute 'disp'\n"
     ]
    },
    {
     "name": "stdout",
     "output_type": "stream",
     "text": [
      "발견된 kspace 폴더들:\n",
      "['data1/leaderboard/acc4/kspace', 'data1/leaderboard/acc8/kspace', 'data1/train/kspace', 'data1/val/kspace']\n"
     ]
    }
   ],
   "source": [
    "base_dir = Path('data1')\n",
    "kspace_dirs = [\n",
    "    p for p in base_dir.rglob('*') \n",
    "    if p.is_dir() and p.name == 'kspace'\n",
    "]\n",
    "\n",
    "print(f\"발견된 kspace 폴더들:\\n{[str(d) for d in kspace_dirs]}\")"
   ]
  },
  {
   "cell_type": "code",
   "execution_count": 15,
   "metadata": {},
   "outputs": [
    {
     "name": "stderr",
     "output_type": "stream",
     "text": [
      "\n",
      "Scanning acc4/leaderboard: 100%|██████████| 58/58 [00:00<00:00, 2330.64it/s]\n",
      "\n",
      "Scanning acc8/leaderboard: 100%|██████████| 58/58 [00:00<00:00, 3355.30it/s]\n",
      "\n",
      "Scanning train/data1: 100%|██████████| 340/340 [00:00<00:00, 4182.72it/s]\n",
      "\n",
      "Scanning val/data1: 100%|██████████| 60/60 [00:00<00:00, 3881.04it/s]\n"
     ]
    }
   ],
   "source": [
    "all_files_info = []\n",
    "\n",
    "for kspace_dir in kspace_dirs:\n",
    "    h5_files = list(kspace_dir.glob('*.h5'))\n",
    "    if not h5_files:\n",
    "        continue\n",
    "        \n",
    "    for h5_file in tqdm(h5_files, desc=f\"Scanning {kspace_dir.parent.name}/{kspace_dir.parent.parent.name}\"):\n",
    "        try:\n",
    "            with h5py.File(h5_file, 'r') as f:\n",
    "                if 'kspace' not in f:\n",
    "                    continue\n",
    "                slices, coils, H, W = f['kspace'].shape\n",
    "                all_files_info.append({\n",
    "                    'path': str(h5_file.parent.parent.parent.name),\n",
    "                    'type': str(h5_file.parent.parent.name),\n",
    "                    'filename': h5_file.name,\n",
    "                    'slices': slices,\n",
    "                    'coils': coils,\n",
    "                    'H': H,\n",
    "                    'W': W\n",
    "                })\n",
    "        except Exception as e:\n",
    "            print(f\"Error processing {h5_file}: {e}\")\n",
    "\n",
    "df_stats = pd.DataFrame(all_files_info)"
   ]
  },
  {
   "cell_type": "markdown",
   "metadata": {},
   "source": [
    "### 2.1. 코일(Coil) 개수 분포\n",
    "\n",
    "전체 데이터셋에서 코일 개수의 최솟값, 최댓값을 확인하고 각 코일 개수별로 몇 개의 파일이 있는지 집계합니다."
   ]
  },
  {
   "cell_type": "code",
   "execution_count": 16,
   "metadata": {},
   "outputs": [
    {
     "name": "stdout",
     "output_type": "stream",
     "text": [
      "--- 코일 개수 통계 ---\n",
      "최소 코일 개수: 4\n",
      "최대 코일 개수: 20\n",
      "\n",
      "--- 코일 개수별 파일 수 ---\n",
      " Coil 개수  파일 수\n",
      "       4    13\n",
      "       8     2\n",
      "      10     2\n",
      "      12    24\n",
      "      14    37\n",
      "      15   258\n",
      "      16    94\n",
      "      18     3\n",
      "      20    83\n"
     ]
    }
   ],
   "source": [
    "if not df_stats.empty:\n",
    "    print(\"--- 코일 개수 통계 ---\")\n",
    "    print(f\"최소 코일 개수: {df_stats['coils'].min()}\")\n",
    "    print(f\"최대 코일 개수: {df_stats['coils'].max()}\\n\")\n",
    "    \n",
    "    coil_counts = df_stats['coils'].value_counts().sort_index().reset_index()\n",
    "    coil_counts.columns = ['Coil 개수', '파일 수']\n",
    "    print(\"--- 코일 개수별 파일 수 ---\")\n",
    "    print(coil_counts.to_string(index=False))\n",
    "else:\n",
    "    print(\"분석할 h5 파일을 찾지 못했습니다.\")"
   ]
  },
  {
   "cell_type": "markdown",
   "metadata": {},
   "source": [
    "### 2.2. Slice, Height, Width 분포\n",
    "\n",
    "k-space 텐서의 나머지 차원(slice, H, W)에 대한 기술 통계를 확인합니다."
   ]
  },
  {
   "cell_type": "code",
   "execution_count": 17,
   "metadata": {},
   "outputs": [
    {
     "name": "stdout",
     "output_type": "stream",
     "text": [
      "--- Slice, Height, Width 기술 통계 ---\n",
      "           slices           H           W\n",
      "count  516.000000  516.000000  516.000000\n",
      "mean    14.746124  704.000000  382.116279\n",
      "std      2.398115   64.062106   15.630753\n",
      "min     10.000000  640.000000  320.000000\n",
      "25%     13.000000  640.000000  368.000000\n",
      "50%     16.000000  704.000000  392.000000\n",
      "75%     16.000000  768.000000  396.000000\n",
      "max     22.000000  768.000000  480.000000\n"
     ]
    }
   ],
   "source": [
    "if not df_stats.empty:\n",
    "    print(\"--- Slice, Height, Width 기술 통계 ---\")\n",
    "    print(df_stats[['slices', 'H', 'W']].describe())\n",
    "else:\n",
    "    print(\"분석할 h5 파일을 찾지 못했습니다.\")"
   ]
  },
  {
   "cell_type": "markdown",
   "metadata": {},
   "source": [
    "## 3. `acc4` vs `acc8` 스캔 검증\n",
    "\n",
    "### 검증 방법론 제안\n",
    "단순히 k-space 데이터를 모두 비교하는 것은 비효율적이므로, 다음과 같은 합리적인 두 단계 검증 방법을 사용합니다.\n",
    "\n",
    "1.  **메타데이터(Metadata) 비교**: HDF5 파일의 `attrs`에 저장된 메타데이터를 비교합니다. 동일한 환자의 스캔이라면 `patient_id`와 같은 주요 속성들이 일치해야 합니다. 이 방법이 가장 빠르고 효율적입니다.\n",
    "\n",
    "2.  **데이터 샘플링 비교**: 메타데이터 확인 후, 추가적인 검증을 위해 실제 k-space 데이터를 비교합니다. `acc4`와 `acc8` 마스크가 모두 1인, 즉 **공통으로 샘플링된 영역의 데이터는 완전히 일치**해야 합니다. 모든 슬라이스를 비교할 필요 없이, 중앙부의 대표 슬라이스 하나에서 공통 샘플링된 데이터가 일치하는지 확인하여 데이터 지문(fingerprint)처럼 사용합니다."
   ]
  },
  {
   "cell_type": "code",
   "execution_count": 21,
   "metadata": {},
   "outputs": [],
   "source": [
    "import h5py\n",
    "import numpy as np\n",
    "from pathlib import Path\n",
    "\n",
    "def verify_scans_data_only(file_acc4: Path, file_acc8: Path) -> (bool, str):\n",
    "    \"\"\"\n",
    "    메타데이터 없이 오직 데이터의 Shape과 샘플 값만으로\n",
    "    두 h5 파일이 동일한 원본 스캔인지 검증합니다.\n",
    "    \"\"\"\n",
    "    if not file_acc4.exists() or not file_acc8.exists():\n",
    "        return False, \"파일 없음\"\n",
    "\n",
    "    try:\n",
    "        with h5py.File(file_acc4, 'r') as f4, h5py.File(file_acc8, 'r') as f8:\n",
    "            kspace4 = f4['kspace']\n",
    "            kspace8 = f8['kspace']\n",
    "\n",
    "            # 1단계: k-space 텐서의 Shape 전체 비교\n",
    "            # (slices, coils, H, W) 차원이 모두 동일해야 합니다.\n",
    "            if kspace4.shape != kspace8.shape:\n",
    "                return False, f\"k-space Shape 불일치. F1:{kspace4.shape}, F2:{kspace8.shape}\"\n",
    "\n",
    "            # 2단계: 공통 샘플링 영역의 '전체' 데이터 비교\n",
    "            mask4 = f4['mask'][:]\n",
    "            mask8 = f8['mask'][:]\n",
    "            \n",
    "            # 두 마스크에서 공통으로 샘플링된 k-space 주파수 축(W)의 인덱스를 찾습니다.\n",
    "            common_cols = np.where((mask4 == 1) & (mask8 == 1))[0]\n",
    "\n",
    "            if len(common_cols) == 0:\n",
    "                return False, \"공통 샘플링 영역 없음\"\n",
    "\n",
    "            # '모든 슬라이스'와 '모든 코일'에 대해 공통 영역 데이터 추출\n",
    "            # Ellipsis(...)는 모든 이전 차원(slice, coil, H)을 의미합니다.\n",
    "            kspace4_common = kspace4[..., common_cols]\n",
    "            kspace8_common = kspace8[..., common_cols]\n",
    "            \n",
    "            # 복소수 배열 전체를 비교합니다.\n",
    "            if not np.allclose(kspace4_common, kspace8_common):\n",
    "                return False, \"k-space 샘플 데이터 불일치\"\n",
    "\n",
    "    except Exception as e:\n",
    "        return False, f\"파일 처리 중 오류: {e}\"\n",
    "    \n",
    "    return True, \"검증 성공 (Shape 및 k-space 샘플 데이터 일치)\""
   ]
  },
  {
   "cell_type": "code",
   "execution_count": 22,
   "metadata": {},
   "outputs": [
    {
     "name": "stdout",
     "output_type": "stream",
     "text": [
      "--- Train 데이터셋 acc4 vs acc8 검증 시작 ---\n",
      "\n",
      "[Brain Scans 검증]\n"
     ]
    },
    {
     "name": "stderr",
     "output_type": "stream",
     "text": [
      "\n",
      "\u001b[A\n",
      "\u001b[A"
     ]
    },
    {
     "name": "stdout",
     "output_type": "stream",
     "text": [
      "  - 검증 실패: brain_acc*_1.h5, 이유: k-space 샘플 데이터 불일치\n",
      "  - 검증 실패: brain_acc*_2.h5, 이유: k-space Shape 불일치. F1:(16, 8, 768, 396), F2:(16, 12, 768, 396)\n"
     ]
    },
    {
     "name": "stderr",
     "output_type": "stream",
     "text": [
      "\n",
      "\u001b[A"
     ]
    },
    {
     "name": "stdout",
     "output_type": "stream",
     "text": [
      "  - 검증 실패: brain_acc*_3.h5, 이유: k-space 샘플 데이터 불일치\n",
      "  - 검증 실패: brain_acc*_4.h5, 이유: k-space Shape 불일치. F1:(16, 20, 768, 396), F2:(16, 16, 768, 396)\n",
      "  - 검증 실패: brain_acc*_5.h5, 이유: k-space Shape 불일치. F1:(16, 14, 768, 396), F2:(16, 16, 768, 396)\n",
      "  - 검증 실패: brain_acc*_6.h5, 이유: k-space Shape 불일치. F1:(16, 20, 768, 396), F2:(16, 4, 768, 392)\n",
      "  - 검증 실패: brain_acc*_7.h5, 이유: k-space Shape 불일치. F1:(16, 12, 768, 396), F2:(14, 14, 768, 396)\n",
      "  - 검증 실패: brain_acc*_8.h5, 이유: k-space Shape 불일치. F1:(16, 20, 768, 396), F2:(16, 16, 768, 396)\n"
     ]
    },
    {
     "name": "stderr",
     "output_type": "stream",
     "text": [
      "\n",
      "\u001b[A"
     ]
    },
    {
     "name": "stdout",
     "output_type": "stream",
     "text": [
      "  - 검증 실패: brain_acc*_9.h5, 이유: k-space 샘플 데이터 불일치\n",
      "  - 검증 실패: brain_acc*_10.h5, 이유: k-space Shape 불일치. F1:(16, 16, 768, 396), F2:(16, 20, 768, 396)\n",
      "  - 검증 실패: brain_acc*_11.h5, 이유: k-space Shape 불일치. F1:(16, 20, 768, 396), F2:(16, 4, 768, 392)\n",
      "  - 검증 실패: brain_acc*_12.h5, 이유: k-space Shape 불일치. F1:(16, 12, 768, 396), F2:(16, 14, 768, 396)\n",
      "  - 검증 실패: brain_acc*_13.h5, 이유: k-space Shape 불일치. F1:(16, 12, 768, 396), F2:(16, 4, 768, 392)\n",
      "  - 검증 실패: brain_acc*_14.h5, 이유: k-space Shape 불일치. F1:(16, 16, 768, 396), F2:(16, 14, 768, 396)\n",
      "  - 검증 실패: brain_acc*_15.h5, 이유: k-space Shape 불일치. F1:(16, 8, 768, 396), F2:(16, 12, 768, 396)\n",
      "  - 검증 실패: brain_acc*_16.h5, 이유: k-space Shape 불일치. F1:(16, 20, 768, 396), F2:(16, 16, 768, 396)\n",
      "  - 검증 실패: brain_acc*_17.h5, 이유: k-space Shape 불일치. F1:(16, 16, 768, 396), F2:(16, 20, 768, 396)\n",
      "  - 검증 실패: brain_acc*_18.h5, 이유: k-space Shape 불일치. F1:(16, 4, 768, 392), F2:(16, 16, 768, 396)\n"
     ]
    },
    {
     "name": "stderr",
     "output_type": "stream",
     "text": [
      "\n",
      "\u001b[A"
     ]
    },
    {
     "name": "stdout",
     "output_type": "stream",
     "text": [
      "  - 검증 실패: brain_acc*_19.h5, 이유: k-space 샘플 데이터 불일치\n",
      "  - 검증 실패: brain_acc*_20.h5, 이유: k-space Shape 불일치. F1:(16, 16, 768, 396), F2:(16, 14, 768, 396)\n",
      "  - 검증 실패: brain_acc*_21.h5, 이유: k-space Shape 불일치. F1:(16, 16, 768, 396), F2:(12, 20, 768, 396)\n",
      "  - 검증 실패: brain_acc*_22.h5, 이유: k-space Shape 불일치. F1:(16, 16, 768, 396), F2:(16, 20, 768, 396)\n"
     ]
    },
    {
     "name": "stderr",
     "output_type": "stream",
     "text": [
      "\n",
      "\u001b[A"
     ]
    },
    {
     "name": "stdout",
     "output_type": "stream",
     "text": [
      "  - 검증 실패: brain_acc*_23.h5, 이유: k-space 샘플 데이터 불일치\n"
     ]
    },
    {
     "name": "stderr",
     "output_type": "stream",
     "text": [
      "\n",
      "\u001b[A"
     ]
    },
    {
     "name": "stdout",
     "output_type": "stream",
     "text": [
      "  - 검증 실패: brain_acc*_24.h5, 이유: k-space 샘플 데이터 불일치\n",
      "  - 검증 실패: brain_acc*_25.h5, 이유: k-space Shape 불일치. F1:(16, 16, 768, 396), F2:(16, 20, 768, 396)\n",
      "  - 검증 실패: brain_acc*_26.h5, 이유: k-space Shape 불일치. F1:(16, 16, 768, 396), F2:(16, 20, 768, 396)\n",
      "  - 검증 실패: brain_acc*_27.h5, 이유: k-space Shape 불일치. F1:(16, 12, 768, 396), F2:(16, 16, 768, 396)\n",
      "  - 검증 실패: brain_acc*_28.h5, 이유: k-space Shape 불일치. F1:(16, 16, 768, 396), F2:(16, 14, 768, 396)\n",
      "  - 검증 실패: brain_acc*_29.h5, 이유: k-space Shape 불일치. F1:(16, 16, 768, 396), F2:(16, 4, 768, 392)\n",
      "  - 검증 실패: brain_acc*_30.h5, 이유: k-space Shape 불일치. F1:(16, 14, 768, 396), F2:(16, 20, 768, 396)\n",
      "  - 검증 실패: brain_acc*_31.h5, 이유: k-space Shape 불일치. F1:(16, 16, 768, 396), F2:(16, 20, 768, 396)\n",
      "  - 검증 실패: brain_acc*_32.h5, 이유: k-space Shape 불일치. F1:(16, 14, 768, 396), F2:(16, 20, 768, 396)\n",
      "  - 검증 실패: brain_acc*_33.h5, 이유: k-space Shape 불일치. F1:(16, 20, 768, 396), F2:(16, 14, 768, 396)\n"
     ]
    },
    {
     "name": "stderr",
     "output_type": "stream",
     "text": [
      "\n",
      "\u001b[A"
     ]
    },
    {
     "name": "stdout",
     "output_type": "stream",
     "text": [
      "  - 검증 실패: brain_acc*_34.h5, 이유: k-space 샘플 데이터 불일치\n",
      "  - 검증 실패: brain_acc*_35.h5, 이유: k-space Shape 불일치. F1:(16, 14, 768, 396), F2:(16, 16, 768, 396)\n"
     ]
    },
    {
     "name": "stderr",
     "output_type": "stream",
     "text": [
      "\n",
      "\u001b[A"
     ]
    },
    {
     "name": "stdout",
     "output_type": "stream",
     "text": [
      "  - 검증 실패: brain_acc*_36.h5, 이유: k-space 샘플 데이터 불일치\n"
     ]
    },
    {
     "name": "stderr",
     "output_type": "stream",
     "text": [
      "\n",
      "\u001b[A"
     ]
    },
    {
     "name": "stdout",
     "output_type": "stream",
     "text": [
      "  - 검증 실패: brain_acc*_37.h5, 이유: k-space 샘플 데이터 불일치\n",
      "  - 검증 실패: brain_acc*_38.h5, 이유: k-space Shape 불일치. F1:(16, 20, 768, 396), F2:(12, 12, 768, 396)\n"
     ]
    },
    {
     "name": "stderr",
     "output_type": "stream",
     "text": [
      "\n",
      "\u001b[A"
     ]
    },
    {
     "name": "stdout",
     "output_type": "stream",
     "text": [
      "  - 검증 실패: brain_acc*_39.h5, 이유: k-space 샘플 데이터 불일치\n",
      "  - 검증 실패: brain_acc*_40.h5, 이유: k-space Shape 불일치. F1:(16, 14, 768, 396), F2:(16, 16, 768, 396)\n",
      "  - 검증 실패: brain_acc*_41.h5, 이유: k-space Shape 불일치. F1:(16, 12, 768, 396), F2:(16, 14, 768, 396)\n"
     ]
    },
    {
     "name": "stderr",
     "output_type": "stream",
     "text": [
      "\n",
      "\u001b[A"
     ]
    },
    {
     "name": "stdout",
     "output_type": "stream",
     "text": [
      "  - 검증 실패: brain_acc*_42.h5, 이유: k-space 샘플 데이터 불일치\n"
     ]
    },
    {
     "name": "stderr",
     "output_type": "stream",
     "text": [
      "\n",
      "\u001b[A\n",
      "\u001b[A"
     ]
    },
    {
     "name": "stdout",
     "output_type": "stream",
     "text": [
      "  - 검증 실패: brain_acc*_43.h5, 이유: k-space 샘플 데이터 불일치\n",
      "  - 검증 실패: brain_acc*_44.h5, 이유: k-space Shape 불일치. F1:(16, 14, 768, 396), F2:(16, 20, 768, 396)\n",
      "  - 검증 실패: brain_acc*_45.h5, 이유: k-space Shape 불일치. F1:(16, 20, 768, 396), F2:(16, 16, 768, 396)\n",
      "  - 검증 실패: brain_acc*_46.h5, 이유: k-space Shape 불일치. F1:(16, 12, 768, 396), F2:(16, 16, 768, 396)\n",
      "  - 검증 실패: brain_acc*_47.h5, 이유: k-space Shape 불일치. F1:(16, 12, 768, 396), F2:(16, 20, 768, 396)\n",
      "  - 검증 실패: brain_acc*_48.h5, 이유: k-space Shape 불일치. F1:(16, 14, 768, 396), F2:(16, 20, 768, 396)\n",
      "  - 검증 실패: brain_acc*_49.h5, 이유: k-space Shape 불일치. F1:(16, 16, 768, 396), F2:(16, 20, 768, 396)\n",
      "  - 검증 실패: brain_acc*_50.h5, 이유: k-space Shape 불일치. F1:(16, 16, 768, 396), F2:(16, 12, 768, 396)\n",
      "  - 검증 실패: brain_acc*_51.h5, 이유: k-space Shape 불일치. F1:(16, 20, 768, 396), F2:(16, 16, 768, 396)\n",
      "  - 검증 실패: brain_acc*_52.h5, 이유: k-space Shape 불일치. F1:(16, 20, 768, 396), F2:(16, 16, 768, 396)\n",
      "  - 검증 실패: brain_acc*_53.h5, 이유: k-space Shape 불일치. F1:(16, 12, 768, 396), F2:(16, 16, 768, 396)\n",
      "  - 검증 실패: brain_acc*_54.h5, 이유: k-space Shape 불일치. F1:(16, 20, 768, 396), F2:(16, 14, 768, 396)\n",
      "  - 검증 실패: brain_acc*_55.h5, 이유: k-space Shape 불일치. F1:(16, 4, 768, 392), F2:(16, 20, 768, 396)\n",
      "  - 검증 실패: brain_acc*_56.h5, 이유: k-space Shape 불일치. F1:(16, 14, 768, 396), F2:(16, 16, 768, 396)\n",
      "  - 검증 실패: brain_acc*_57.h5, 이유: k-space Shape 불일치. F1:(16, 14, 768, 396), F2:(16, 20, 768, 396)\n",
      "  - 검증 실패: brain_acc*_58.h5, 이유: k-space Shape 불일치. F1:(16, 20, 768, 396), F2:(16, 14, 768, 396)\n",
      "  - 검증 실패: brain_acc*_59.h5, 이유: k-space Shape 불일치. F1:(16, 20, 768, 396), F2:(16, 16, 768, 396)\n",
      "  - 검증 실패: brain_acc*_60.h5, 이유: k-space Shape 불일치. F1:(16, 20, 768, 396), F2:(16, 16, 768, 396)\n",
      "  - 검증 실패: brain_acc*_61.h5, 이유: k-space 샘플 데이터 불일치\n",
      "  - 검증 실패: brain_acc*_62.h5, 이유: k-space Shape 불일치. F1:(14, 14, 768, 396), F2:(16, 20, 768, 396)\n",
      "  - 검증 실패: brain_acc*_63.h5, 이유: k-space Shape 불일치. F1:(16, 14, 768, 396), F2:(16, 16, 768, 396)\n",
      "  - 검증 실패: brain_acc*_64.h5, 이유: k-space Shape 불일치. F1:(16, 16, 768, 396), F2:(14, 14, 768, 396)\n",
      "  - 검증 실패: brain_acc*_65.h5, 이유: k-space 샘플 데이터 불일치\n",
      "  - 검증 실패: brain_acc*_66.h5, 이유: k-space Shape 불일치. F1:(16, 14, 768, 396), F2:(14, 20, 768, 396)\n"
     ]
    },
    {
     "name": "stderr",
     "output_type": "stream",
     "text": [
      "\n",
      "\u001b[A"
     ]
    },
    {
     "name": "stdout",
     "output_type": "stream",
     "text": [
      "  - 검증 실패: brain_acc*_67.h5, 이유: k-space 샘플 데이터 불일치\n",
      "  - 검증 실패: brain_acc*_68.h5, 이유: k-space Shape 불일치. F1:(10, 16, 768, 396), F2:(16, 20, 768, 396)\n",
      "  - 검증 실패: brain_acc*_69.h5, 이유: k-space Shape 불일치. F1:(16, 16, 768, 396), F2:(14, 16, 768, 396)\n",
      "  - 검증 실패: brain_acc*_70.h5, 이유: k-space Shape 불일치. F1:(16, 14, 768, 396), F2:(16, 20, 768, 396)\n",
      "  - 검증 실패: brain_acc*_71.h5, 이유: k-space Shape 불일치. F1:(16, 14, 768, 396), F2:(16, 16, 768, 396)\n"
     ]
    },
    {
     "name": "stderr",
     "output_type": "stream",
     "text": [
      "\n",
      "\u001b[A"
     ]
    },
    {
     "name": "stdout",
     "output_type": "stream",
     "text": [
      "  - 검증 실패: brain_acc*_72.h5, 이유: k-space 샘플 데이터 불일치\n",
      "  - 검증 실패: brain_acc*_73.h5, 이유: k-space Shape 불일치. F1:(16, 16, 768, 396), F2:(16, 20, 768, 396)\n"
     ]
    },
    {
     "name": "stderr",
     "output_type": "stream",
     "text": [
      "\n",
      "\u001b[A"
     ]
    },
    {
     "name": "stdout",
     "output_type": "stream",
     "text": [
      "  - 검증 실패: brain_acc*_74.h5, 이유: k-space 샘플 데이터 불일치\n",
      "  - 검증 실패: brain_acc*_75.h5, 이유: k-space Shape 불일치. F1:(16, 14, 768, 396), F2:(16, 16, 768, 396)\n",
      "  - 검증 실패: brain_acc*_76.h5, 이유: k-space 샘플 데이터 불일치\n"
     ]
    },
    {
     "name": "stderr",
     "output_type": "stream",
     "text": [
      "\n",
      "\u001b[A"
     ]
    },
    {
     "name": "stdout",
     "output_type": "stream",
     "text": [
      "  - 검증 실패: brain_acc*_77.h5, 이유: k-space 샘플 데이터 불일치\n",
      "  - 검증 실패: brain_acc*_78.h5, 이유: k-space Shape 불일치. F1:(16, 16, 768, 396), F2:(16, 14, 768, 396)\n",
      "  - 검증 실패: brain_acc*_79.h5, 이유: k-space Shape 불일치. F1:(16, 12, 768, 396), F2:(16, 20, 768, 396)\n",
      "  - 검증 실패: brain_acc*_80.h5, 이유: k-space Shape 불일치. F1:(16, 20, 768, 396), F2:(16, 16, 768, 396)\n"
     ]
    },
    {
     "name": "stderr",
     "output_type": "stream",
     "text": [
      "\n",
      "\u001b[A"
     ]
    },
    {
     "name": "stdout",
     "output_type": "stream",
     "text": [
      "  - 검증 실패: brain_acc*_81.h5, 이유: k-space 샘플 데이터 불일치\n",
      "  - 검증 실패: brain_acc*_82.h5, 이유: k-space Shape 불일치. F1:(16, 16, 768, 396), F2:(16, 10, 768, 396)\n",
      "  - 검증 실패: brain_acc*_83.h5, 이유: k-space Shape 불일치. F1:(16, 16, 768, 396), F2:(16, 4, 768, 392)\n"
     ]
    },
    {
     "name": "stderr",
     "output_type": "stream",
     "text": [
      "\n",
      "Verifying brain: 100%|██████████| 85/85 [00:10<00:00,  8.02it/s]\n"
     ]
    },
    {
     "name": "stdout",
     "output_type": "stream",
     "text": [
      "  - 검증 실패: brain_acc*_84.h5, 이유: k-space 샘플 데이터 불일치\n",
      "  - 검증 실패: brain_acc*_85.h5, 이유: k-space Shape 불일치. F1:(16, 12, 768, 396), F2:(16, 16, 768, 396)\n",
      "  >> brain 스캔 중 85개 페어가 검증에 실패했습니다.\n",
      "\n",
      "[Knee Scans 검증]\n"
     ]
    },
    {
     "name": "stderr",
     "output_type": "stream",
     "text": [
      "\n",
      "\u001b[A"
     ]
    },
    {
     "name": "stdout",
     "output_type": "stream",
     "text": [
      "  - 검증 실패: knee_acc*_1.h5, 이유: k-space Shape 불일치. F1:(13, 15, 640, 372), F2:(14, 15, 640, 368)\n",
      "  - 검증 실패: knee_acc*_2.h5, 이유: k-space Shape 불일치. F1:(16, 15, 640, 368), F2:(13, 15, 640, 368)\n",
      "  - 검증 실패: knee_acc*_3.h5, 이유: k-space Shape 불일치. F1:(14, 15, 640, 368), F2:(13, 15, 640, 368)\n",
      "  - 검증 실패: knee_acc*_4.h5, 이유: k-space Shape 불일치. F1:(12, 15, 640, 372), F2:(13, 15, 640, 372)\n",
      "  - 검증 실패: knee_acc*_5.h5, 이유: k-space Shape 불일치. F1:(12, 15, 640, 368), F2:(15, 15, 640, 368)\n",
      "  - 검증 실패: knee_acc*_6.h5, 이유: k-space Shape 불일치. F1:(13, 15, 640, 356), F2:(12, 15, 640, 372)\n",
      "  - 검증 실패: knee_acc*_7.h5, 이유: k-space Shape 불일치. F1:(12, 15, 640, 372), F2:(16, 15, 640, 368)\n",
      "  - 검증 실패: knee_acc*_8.h5, 이유: k-space Shape 불일치. F1:(14, 15, 640, 368), F2:(13, 15, 640, 368)\n",
      "  - 검증 실패: knee_acc*_9.h5, 이유: k-space Shape 불일치. F1:(14, 15, 640, 368), F2:(15, 15, 640, 368)\n",
      "  - 검증 실패: knee_acc*_10.h5, 이유: k-space Shape 불일치. F1:(10, 15, 640, 368), F2:(16, 15, 640, 372)\n",
      "  - 검증 실패: knee_acc*_11.h5, 이유: k-space Shape 불일치. F1:(13, 15, 640, 368), F2:(12, 15, 640, 372)\n",
      "  - 검증 실패: knee_acc*_12.h5, 이유: k-space Shape 불일치. F1:(10, 15, 640, 372), F2:(15, 15, 640, 368)\n",
      "  - 검증 실패: knee_acc*_13.h5, 이유: k-space Shape 불일치. F1:(11, 15, 640, 372), F2:(13, 15, 640, 368)\n",
      "  - 검증 실패: knee_acc*_14.h5, 이유: k-space Shape 불일치. F1:(10, 15, 640, 322), F2:(12, 15, 640, 372)\n",
      "  - 검증 실패: knee_acc*_15.h5, 이유: k-space Shape 불일치. F1:(14, 15, 640, 372), F2:(12, 15, 640, 368)\n",
      "  - 검증 실패: knee_acc*_16.h5, 이유: k-space Shape 불일치. F1:(14, 15, 640, 368), F2:(17, 15, 640, 368)\n",
      "  - 검증 실패: knee_acc*_17.h5, 이유: k-space Shape 불일치. F1:(13, 15, 640, 368), F2:(10, 15, 640, 372)\n"
     ]
    },
    {
     "name": "stderr",
     "output_type": "stream",
     "text": [
      "\n",
      "\u001b[A"
     ]
    },
    {
     "name": "stdout",
     "output_type": "stream",
     "text": [
      "  - 검증 실패: knee_acc*_18.h5, 이유: k-space 샘플 데이터 불일치\n",
      "  - 검증 실패: knee_acc*_19.h5, 이유: k-space Shape 불일치. F1:(13, 15, 640, 372), F2:(14, 15, 640, 368)\n",
      "  - 검증 실패: knee_acc*_20.h5, 이유: k-space Shape 불일치. F1:(12, 15, 640, 368), F2:(13, 15, 640, 368)\n",
      "  - 검증 실패: knee_acc*_21.h5, 이유: k-space 샘플 데이터 불일치\n"
     ]
    },
    {
     "name": "stderr",
     "output_type": "stream",
     "text": [
      "\n",
      "\u001b[A"
     ]
    },
    {
     "name": "stdout",
     "output_type": "stream",
     "text": [
      "  - 검증 실패: knee_acc*_22.h5, 이유: k-space 샘플 데이터 불일치\n",
      "  - 검증 실패: knee_acc*_23.h5, 이유: k-space Shape 불일치. F1:(13, 15, 640, 372), F2:(10, 15, 640, 372)\n",
      "  - 검증 실패: knee_acc*_24.h5, 이유: k-space Shape 불일치. F1:(13, 15, 640, 368), F2:(11, 15, 640, 372)\n",
      "  - 검증 실패: knee_acc*_25.h5, 이유: k-space Shape 불일치. F1:(12, 15, 640, 368), F2:(14, 15, 640, 368)\n",
      "  - 검증 실패: knee_acc*_26.h5, 이유: k-space Shape 불일치. F1:(16, 15, 640, 368), F2:(14, 15, 640, 388)\n",
      "  - 검증 실패: knee_acc*_27.h5, 이유: k-space Shape 불일치. F1:(10, 15, 640, 372), F2:(15, 15, 640, 368)\n",
      "  - 검증 실패: knee_acc*_28.h5, 이유: k-space Shape 불일치. F1:(13, 15, 640, 368), F2:(13, 15, 640, 372)\n",
      "  - 검증 실패: knee_acc*_29.h5, 이유: k-space Shape 불일치. F1:(18, 15, 640, 372), F2:(16, 15, 640, 368)\n",
      "  - 검증 실패: knee_acc*_30.h5, 이유: k-space Shape 불일치. F1:(14, 15, 640, 372), F2:(12, 15, 640, 372)\n",
      "  - 검증 실패: knee_acc*_31.h5, 이유: k-space Shape 불일치. F1:(12, 15, 640, 368), F2:(13, 15, 640, 368)\n",
      "  - 검증 실패: knee_acc*_32.h5, 이유: k-space Shape 불일치. F1:(10, 15, 640, 372), F2:(14, 15, 640, 368)\n",
      "  - 검증 실패: knee_acc*_33.h5, 이유: k-space Shape 불일치. F1:(15, 15, 640, 368), F2:(12, 15, 640, 368)\n"
     ]
    },
    {
     "name": "stderr",
     "output_type": "stream",
     "text": [
      "\n",
      "\u001b[A"
     ]
    },
    {
     "name": "stdout",
     "output_type": "stream",
     "text": [
      "  - 검증 실패: knee_acc*_34.h5, 이유: k-space 샘플 데이터 불일치\n",
      "  - 검증 실패: knee_acc*_35.h5, 이유: k-space Shape 불일치. F1:(16, 15, 640, 372), F2:(14, 15, 640, 368)\n",
      "  - 검증 실패: knee_acc*_36.h5, 이유: k-space Shape 불일치. F1:(15, 15, 640, 368), F2:(13, 15, 640, 368)\n",
      "  - 검증 실패: knee_acc*_37.h5, 이유: k-space Shape 불일치. F1:(13, 15, 640, 372), F2:(13, 15, 640, 368)\n",
      "  - 검증 실패: knee_acc*_38.h5, 이유: k-space Shape 불일치. F1:(13, 15, 640, 368), F2:(13, 15, 640, 372)\n",
      "  - 검증 실패: knee_acc*_39.h5, 이유: k-space Shape 불일치. F1:(12, 15, 640, 322), F2:(15, 15, 640, 386)\n",
      "  - 검증 실패: knee_acc*_40.h5, 이유: k-space Shape 불일치. F1:(15, 15, 640, 368), F2:(14, 15, 640, 368)\n",
      "  - 검증 실패: knee_acc*_41.h5, 이유: k-space Shape 불일치. F1:(13, 15, 640, 368), F2:(20, 15, 640, 368)\n",
      "  - 검증 실패: knee_acc*_42.h5, 이유: k-space Shape 불일치. F1:(10, 15, 640, 372), F2:(13, 15, 640, 372)\n",
      "  - 검증 실패: knee_acc*_43.h5, 이유: k-space Shape 불일치. F1:(13, 15, 640, 368), F2:(10, 15, 640, 372)\n",
      "  - 검증 실패: knee_acc*_44.h5, 이유: k-space Shape 불일치. F1:(17, 15, 640, 388), F2:(13, 15, 640, 368)\n",
      "  - 검증 실패: knee_acc*_45.h5, 이유: k-space Shape 불일치. F1:(11, 15, 640, 372), F2:(12, 15, 640, 372)\n",
      "  - 검증 실패: knee_acc*_46.h5, 이유: k-space Shape 불일치. F1:(14, 15, 640, 368), F2:(13, 15, 640, 368)\n",
      "  - 검증 실패: knee_acc*_47.h5, 이유: k-space Shape 불일치. F1:(13, 15, 640, 372), F2:(14, 15, 640, 368)\n"
     ]
    },
    {
     "name": "stderr",
     "output_type": "stream",
     "text": [
      "\n",
      "\u001b[A"
     ]
    },
    {
     "name": "stdout",
     "output_type": "stream",
     "text": [
      "  - 검증 실패: knee_acc*_48.h5, 이유: k-space 샘플 데이터 불일치\n",
      "  - 검증 실패: knee_acc*_49.h5, 이유: k-space Shape 불일치. F1:(12, 15, 640, 372), F2:(13, 15, 640, 368)\n",
      "  - 검증 실패: knee_acc*_50.h5, 이유: k-space Shape 불일치. F1:(15, 15, 640, 368), F2:(13, 15, 640, 368)\n",
      "  - 검증 실패: knee_acc*_51.h5, 이유: k-space Shape 불일치. F1:(10, 15, 640, 372), F2:(13, 15, 640, 368)\n",
      "  - 검증 실패: knee_acc*_52.h5, 이유: k-space Shape 불일치. F1:(16, 15, 640, 368), F2:(12, 15, 640, 368)\n",
      "  - 검증 실패: knee_acc*_53.h5, 이유: k-space Shape 불일치. F1:(18, 15, 640, 368), F2:(14, 15, 640, 386)\n",
      "  - 검증 실패: knee_acc*_54.h5, 이유: k-space Shape 불일치. F1:(12, 15, 640, 368), F2:(11, 15, 640, 372)\n",
      "  - 검증 실패: knee_acc*_55.h5, 이유: k-space Shape 불일치. F1:(13, 15, 640, 368), F2:(14, 15, 640, 368)\n",
      "  - 검증 실패: knee_acc*_56.h5, 이유: k-space Shape 불일치. F1:(19, 15, 640, 480), F2:(12, 15, 640, 368)\n",
      "  - 검증 실패: knee_acc*_57.h5, 이유: k-space Shape 불일치. F1:(13, 15, 640, 368), F2:(12, 15, 640, 368)\n",
      "  - 검증 실패: knee_acc*_58.h5, 이유: k-space Shape 불일치. F1:(12, 15, 640, 372), F2:(12, 15, 640, 368)\n"
     ]
    },
    {
     "name": "stderr",
     "output_type": "stream",
     "text": [
      "\n",
      "\u001b[A"
     ]
    },
    {
     "name": "stdout",
     "output_type": "stream",
     "text": [
      "  - 검증 실패: knee_acc*_59.h5, 이유: k-space 샘플 데이터 불일치\n",
      "  - 검증 실패: knee_acc*_60.h5, 이유: k-space Shape 불일치. F1:(12, 15, 640, 372), F2:(13, 15, 640, 368)\n",
      "  - 검증 실패: knee_acc*_61.h5, 이유: k-space Shape 불일치. F1:(12, 15, 640, 320), F2:(13, 15, 640, 372)\n",
      "  - 검증 실패: knee_acc*_62.h5, 이유: k-space Shape 불일치. F1:(14, 15, 640, 368), F2:(17, 15, 640, 368)\n",
      "  - 검증 실패: knee_acc*_63.h5, 이유: k-space Shape 불일치. F1:(10, 15, 640, 372), F2:(13, 15, 640, 372)\n",
      "  - 검증 실패: knee_acc*_64.h5, 이유: k-space Shape 불일치. F1:(11, 15, 640, 372), F2:(13, 15, 640, 372)\n",
      "  - 검증 실패: knee_acc*_65.h5, 이유: k-space Shape 불일치. F1:(16, 15, 640, 368), F2:(13, 15, 640, 368)\n",
      "  - 검증 실패: knee_acc*_66.h5, 이유: k-space Shape 불일치. F1:(12, 15, 640, 372), F2:(14, 15, 640, 368)\n"
     ]
    },
    {
     "name": "stderr",
     "output_type": "stream",
     "text": [
      "\n",
      "Verifying knee: 100%|██████████| 85/85 [00:01<00:00, 45.44it/s]"
     ]
    },
    {
     "name": "stdout",
     "output_type": "stream",
     "text": [
      "  - 검증 실패: knee_acc*_67.h5, 이유: k-space 샘플 데이터 불일치\n",
      "  - 검증 실패: knee_acc*_68.h5, 이유: k-space Shape 불일치. F1:(12, 15, 640, 372), F2:(10, 15, 640, 372)\n",
      "  - 검증 실패: knee_acc*_69.h5, 이유: k-space Shape 불일치. F1:(16, 15, 640, 368), F2:(12, 15, 640, 372)\n",
      "  - 검증 실패: knee_acc*_70.h5, 이유: k-space Shape 불일치. F1:(14, 15, 640, 368), F2:(12, 15, 640, 372)\n",
      "  - 검증 실패: knee_acc*_71.h5, 이유: k-space Shape 불일치. F1:(10, 15, 640, 372), F2:(12, 15, 640, 372)\n",
      "  - 검증 실패: knee_acc*_72.h5, 이유: k-space Shape 불일치. F1:(13, 15, 640, 368), F2:(18, 15, 640, 368)\n",
      "  - 검증 실패: knee_acc*_73.h5, 이유: k-space Shape 불일치. F1:(12, 15, 640, 368), F2:(14, 15, 640, 368)\n",
      "  - 검증 실패: knee_acc*_74.h5, 이유: k-space Shape 불일치. F1:(11, 15, 640, 368), F2:(15, 15, 640, 368)\n",
      "  - 검증 실패: knee_acc*_75.h5, 이유: k-space Shape 불일치. F1:(13, 15, 640, 372), F2:(16, 15, 640, 368)\n",
      "  - 검증 실패: knee_acc*_76.h5, 이유: k-space Shape 불일치. F1:(13, 15, 640, 368), F2:(14, 15, 640, 368)\n",
      "  - 검증 실패: knee_acc*_77.h5, 이유: k-space Shape 불일치. F1:(14, 15, 640, 372), F2:(13, 15, 640, 338)\n",
      "  - 검증 실패: knee_acc*_78.h5, 이유: k-space Shape 불일치. F1:(14, 15, 640, 368), F2:(13, 15, 640, 368)\n",
      "  - 검증 실패: knee_acc*_79.h5, 이유: k-space Shape 불일치. F1:(11, 15, 640, 372), F2:(12, 15, 640, 372)\n",
      "  - 검증 실패: knee_acc*_80.h5, 이유: k-space Shape 불일치. F1:(15, 15, 640, 368), F2:(12, 15, 640, 372)\n",
      "  - 검증 실패: knee_acc*_81.h5, 이유: k-space Shape 불일치. F1:(15, 15, 640, 368), F2:(13, 15, 640, 368)\n",
      "  - 검증 실패: knee_acc*_82.h5, 이유: k-space Shape 불일치. F1:(15, 15, 640, 368), F2:(13, 15, 640, 368)\n",
      "  - 검증 실패: knee_acc*_83.h5, 이유: k-space Shape 불일치. F1:(13, 15, 640, 372), F2:(17, 15, 640, 368)\n",
      "  - 검증 실패: knee_acc*_84.h5, 이유: k-space Shape 불일치. F1:(14, 15, 640, 368), F2:(10, 15, 640, 322)\n",
      "  - 검증 실패: knee_acc*_85.h5, 이유: k-space Shape 불일치. F1:(11, 15, 640, 372), F2:(10, 15, 640, 372)\n",
      "  >> knee 스캔 중 85개 페어가 검증에 실패했습니다.\n",
      "\n",
      "--- 검증 완료 ---\n",
      "❌ 일부 스캔 페어에서 불일치가 발견되었습니다. 상세 내용은 위 로그를 확인하세요.\n"
     ]
    },
    {
     "name": "stderr",
     "output_type": "stream",
     "text": [
      "\n"
     ]
    }
   ],
   "source": [
    "print(\"--- Train 데이터셋 acc4 vs acc8 검증 시작 ---\\n\")\n",
    "train_kspace_dir = base_dir / 'train/kspace'\n",
    "verification_results = []\n",
    "all_verified = True\n",
    "\n",
    "scan_types = {\n",
    "    'brain': range(1, 86),\n",
    "    'knee': range(1, 86)\n",
    "}\n",
    "\n",
    "for organ, indices in scan_types.items():\n",
    "    print(f\"[{organ.capitalize()} Scans 검증]\")\n",
    "    num_failed = 0\n",
    "    for i in tqdm(indices, desc=f\"Verifying {organ}\"):\n",
    "        file4 = train_kspace_dir / f\"{organ}_acc4_{i}.h5\"\n",
    "        file8 = train_kspace_dir / f\"{organ}_acc8_{i}.h5\"\n",
    "        \n",
    "        # 수정된 함수 호출\n",
    "        is_same, reason = verify_scans_data_only(file4, file8)\n",
    "        result = {\n",
    "            'organ': organ,\n",
    "            'index': i,\n",
    "            'verified': is_same,\n",
    "            'reason': reason\n",
    "        }\n",
    "        verification_results.append(result)\n",
    "        if not is_same:\n",
    "            all_verified = False\n",
    "            num_failed += 1\n",
    "            print(f\"  - 검증 실패: {organ}_acc*_{i}.h5, 이유: {reason}\")\n",
    "    \n",
    "    if num_failed == 0:\n",
    "        print(f\"  >> 모든 {organ} 스캔 페어가 성공적으로 검증되었습니다.\\n\")\n",
    "    else:\n",
    "        print(f\"  >> {organ} 스캔 중 {num_failed}개 페어가 검증에 실패했습니다.\\n\")\n",
    "\n",
    "print(\"--- 검증 완료 ---\")\n",
    "if all_verified:\n",
    "    print(\"✅ 모든 스캔 페어가 동일한 원본 데이터임을 성공적으로 확인했습니다.\")\n",
    "else:\n",
    "    print(\"❌ 일부 스캔 페어에서 불일치가 발견되었습니다. 상세 내용은 위 로그를 확인하세요.\")"
   ]
  },
  {
   "cell_type": "markdown",
   "metadata": {},
   "source": [
    "### 3.1. 검증 실패 상세 목록 (해당하는 경우)\n",
    "\n",
    "만약 검증에 실패한 파일이 있다면 아래에 목록을 출력합니다."
   ]
  },
  {
   "cell_type": "markdown",
   "metadata": {},
   "source": []
  },
  {
   "cell_type": "code",
   "execution_count": 23,
   "metadata": {},
   "outputs": [
    {
     "name": "stdout",
     "output_type": "stream",
     "text": [
      "--- 검증 실패 목록 ---\n",
      "organ  index  verified                                                          reason\n",
      "brain      1     False                                              k-space 샘플 데이터 불일치\n",
      "brain      2     False  k-space Shape 불일치. F1:(16, 8, 768, 396), F2:(16, 12, 768, 396)\n",
      "brain      3     False                                              k-space 샘플 데이터 불일치\n",
      "brain      4     False k-space Shape 불일치. F1:(16, 20, 768, 396), F2:(16, 16, 768, 396)\n",
      "brain      5     False k-space Shape 불일치. F1:(16, 14, 768, 396), F2:(16, 16, 768, 396)\n",
      "brain      6     False  k-space Shape 불일치. F1:(16, 20, 768, 396), F2:(16, 4, 768, 392)\n",
      "brain      7     False k-space Shape 불일치. F1:(16, 12, 768, 396), F2:(14, 14, 768, 396)\n",
      "brain      8     False k-space Shape 불일치. F1:(16, 20, 768, 396), F2:(16, 16, 768, 396)\n",
      "brain      9     False                                              k-space 샘플 데이터 불일치\n",
      "brain     10     False k-space Shape 불일치. F1:(16, 16, 768, 396), F2:(16, 20, 768, 396)\n",
      "brain     11     False  k-space Shape 불일치. F1:(16, 20, 768, 396), F2:(16, 4, 768, 392)\n",
      "brain     12     False k-space Shape 불일치. F1:(16, 12, 768, 396), F2:(16, 14, 768, 396)\n",
      "brain     13     False  k-space Shape 불일치. F1:(16, 12, 768, 396), F2:(16, 4, 768, 392)\n",
      "brain     14     False k-space Shape 불일치. F1:(16, 16, 768, 396), F2:(16, 14, 768, 396)\n",
      "brain     15     False  k-space Shape 불일치. F1:(16, 8, 768, 396), F2:(16, 12, 768, 396)\n",
      "brain     16     False k-space Shape 불일치. F1:(16, 20, 768, 396), F2:(16, 16, 768, 396)\n",
      "brain     17     False k-space Shape 불일치. F1:(16, 16, 768, 396), F2:(16, 20, 768, 396)\n",
      "brain     18     False  k-space Shape 불일치. F1:(16, 4, 768, 392), F2:(16, 16, 768, 396)\n",
      "brain     19     False                                              k-space 샘플 데이터 불일치\n",
      "brain     20     False k-space Shape 불일치. F1:(16, 16, 768, 396), F2:(16, 14, 768, 396)\n",
      "brain     21     False k-space Shape 불일치. F1:(16, 16, 768, 396), F2:(12, 20, 768, 396)\n",
      "brain     22     False k-space Shape 불일치. F1:(16, 16, 768, 396), F2:(16, 20, 768, 396)\n",
      "brain     23     False                                              k-space 샘플 데이터 불일치\n",
      "brain     24     False                                              k-space 샘플 데이터 불일치\n",
      "brain     25     False k-space Shape 불일치. F1:(16, 16, 768, 396), F2:(16, 20, 768, 396)\n",
      "brain     26     False k-space Shape 불일치. F1:(16, 16, 768, 396), F2:(16, 20, 768, 396)\n",
      "brain     27     False k-space Shape 불일치. F1:(16, 12, 768, 396), F2:(16, 16, 768, 396)\n",
      "brain     28     False k-space Shape 불일치. F1:(16, 16, 768, 396), F2:(16, 14, 768, 396)\n",
      "brain     29     False  k-space Shape 불일치. F1:(16, 16, 768, 396), F2:(16, 4, 768, 392)\n",
      "brain     30     False k-space Shape 불일치. F1:(16, 14, 768, 396), F2:(16, 20, 768, 396)\n",
      "brain     31     False k-space Shape 불일치. F1:(16, 16, 768, 396), F2:(16, 20, 768, 396)\n",
      "brain     32     False k-space Shape 불일치. F1:(16, 14, 768, 396), F2:(16, 20, 768, 396)\n",
      "brain     33     False k-space Shape 불일치. F1:(16, 20, 768, 396), F2:(16, 14, 768, 396)\n",
      "brain     34     False                                              k-space 샘플 데이터 불일치\n",
      "brain     35     False k-space Shape 불일치. F1:(16, 14, 768, 396), F2:(16, 16, 768, 396)\n",
      "brain     36     False                                              k-space 샘플 데이터 불일치\n",
      "brain     37     False                                              k-space 샘플 데이터 불일치\n",
      "brain     38     False k-space Shape 불일치. F1:(16, 20, 768, 396), F2:(12, 12, 768, 396)\n",
      "brain     39     False                                              k-space 샘플 데이터 불일치\n",
      "brain     40     False k-space Shape 불일치. F1:(16, 14, 768, 396), F2:(16, 16, 768, 396)\n",
      "brain     41     False k-space Shape 불일치. F1:(16, 12, 768, 396), F2:(16, 14, 768, 396)\n",
      "brain     42     False                                              k-space 샘플 데이터 불일치\n",
      "brain     43     False                                              k-space 샘플 데이터 불일치\n",
      "brain     44     False k-space Shape 불일치. F1:(16, 14, 768, 396), F2:(16, 20, 768, 396)\n",
      "brain     45     False k-space Shape 불일치. F1:(16, 20, 768, 396), F2:(16, 16, 768, 396)\n",
      "brain     46     False k-space Shape 불일치. F1:(16, 12, 768, 396), F2:(16, 16, 768, 396)\n",
      "brain     47     False k-space Shape 불일치. F1:(16, 12, 768, 396), F2:(16, 20, 768, 396)\n",
      "brain     48     False k-space Shape 불일치. F1:(16, 14, 768, 396), F2:(16, 20, 768, 396)\n",
      "brain     49     False k-space Shape 불일치. F1:(16, 16, 768, 396), F2:(16, 20, 768, 396)\n",
      "brain     50     False k-space Shape 불일치. F1:(16, 16, 768, 396), F2:(16, 12, 768, 396)\n",
      "brain     51     False k-space Shape 불일치. F1:(16, 20, 768, 396), F2:(16, 16, 768, 396)\n",
      "brain     52     False k-space Shape 불일치. F1:(16, 20, 768, 396), F2:(16, 16, 768, 396)\n",
      "brain     53     False k-space Shape 불일치. F1:(16, 12, 768, 396), F2:(16, 16, 768, 396)\n",
      "brain     54     False k-space Shape 불일치. F1:(16, 20, 768, 396), F2:(16, 14, 768, 396)\n",
      "brain     55     False  k-space Shape 불일치. F1:(16, 4, 768, 392), F2:(16, 20, 768, 396)\n",
      "brain     56     False k-space Shape 불일치. F1:(16, 14, 768, 396), F2:(16, 16, 768, 396)\n",
      "brain     57     False k-space Shape 불일치. F1:(16, 14, 768, 396), F2:(16, 20, 768, 396)\n",
      "brain     58     False k-space Shape 불일치. F1:(16, 20, 768, 396), F2:(16, 14, 768, 396)\n",
      "brain     59     False k-space Shape 불일치. F1:(16, 20, 768, 396), F2:(16, 16, 768, 396)\n",
      "brain     60     False k-space Shape 불일치. F1:(16, 20, 768, 396), F2:(16, 16, 768, 396)\n",
      "brain     61     False                                              k-space 샘플 데이터 불일치\n",
      "brain     62     False k-space Shape 불일치. F1:(14, 14, 768, 396), F2:(16, 20, 768, 396)\n",
      "brain     63     False k-space Shape 불일치. F1:(16, 14, 768, 396), F2:(16, 16, 768, 396)\n",
      "brain     64     False k-space Shape 불일치. F1:(16, 16, 768, 396), F2:(14, 14, 768, 396)\n",
      "brain     65     False                                              k-space 샘플 데이터 불일치\n",
      "brain     66     False k-space Shape 불일치. F1:(16, 14, 768, 396), F2:(14, 20, 768, 396)\n",
      "brain     67     False                                              k-space 샘플 데이터 불일치\n",
      "brain     68     False k-space Shape 불일치. F1:(10, 16, 768, 396), F2:(16, 20, 768, 396)\n",
      "brain     69     False k-space Shape 불일치. F1:(16, 16, 768, 396), F2:(14, 16, 768, 396)\n",
      "brain     70     False k-space Shape 불일치. F1:(16, 14, 768, 396), F2:(16, 20, 768, 396)\n",
      "brain     71     False k-space Shape 불일치. F1:(16, 14, 768, 396), F2:(16, 16, 768, 396)\n",
      "brain     72     False                                              k-space 샘플 데이터 불일치\n",
      "brain     73     False k-space Shape 불일치. F1:(16, 16, 768, 396), F2:(16, 20, 768, 396)\n",
      "brain     74     False                                              k-space 샘플 데이터 불일치\n",
      "brain     75     False k-space Shape 불일치. F1:(16, 14, 768, 396), F2:(16, 16, 768, 396)\n",
      "brain     76     False                                              k-space 샘플 데이터 불일치\n",
      "brain     77     False                                              k-space 샘플 데이터 불일치\n",
      "brain     78     False k-space Shape 불일치. F1:(16, 16, 768, 396), F2:(16, 14, 768, 396)\n",
      "brain     79     False k-space Shape 불일치. F1:(16, 12, 768, 396), F2:(16, 20, 768, 396)\n",
      "brain     80     False k-space Shape 불일치. F1:(16, 20, 768, 396), F2:(16, 16, 768, 396)\n",
      "brain     81     False                                              k-space 샘플 데이터 불일치\n",
      "brain     82     False k-space Shape 불일치. F1:(16, 16, 768, 396), F2:(16, 10, 768, 396)\n",
      "brain     83     False  k-space Shape 불일치. F1:(16, 16, 768, 396), F2:(16, 4, 768, 392)\n",
      "brain     84     False                                              k-space 샘플 데이터 불일치\n",
      "brain     85     False k-space Shape 불일치. F1:(16, 12, 768, 396), F2:(16, 16, 768, 396)\n",
      " knee      1     False k-space Shape 불일치. F1:(13, 15, 640, 372), F2:(14, 15, 640, 368)\n",
      " knee      2     False k-space Shape 불일치. F1:(16, 15, 640, 368), F2:(13, 15, 640, 368)\n",
      " knee      3     False k-space Shape 불일치. F1:(14, 15, 640, 368), F2:(13, 15, 640, 368)\n",
      " knee      4     False k-space Shape 불일치. F1:(12, 15, 640, 372), F2:(13, 15, 640, 372)\n",
      " knee      5     False k-space Shape 불일치. F1:(12, 15, 640, 368), F2:(15, 15, 640, 368)\n",
      " knee      6     False k-space Shape 불일치. F1:(13, 15, 640, 356), F2:(12, 15, 640, 372)\n",
      " knee      7     False k-space Shape 불일치. F1:(12, 15, 640, 372), F2:(16, 15, 640, 368)\n",
      " knee      8     False k-space Shape 불일치. F1:(14, 15, 640, 368), F2:(13, 15, 640, 368)\n",
      " knee      9     False k-space Shape 불일치. F1:(14, 15, 640, 368), F2:(15, 15, 640, 368)\n",
      " knee     10     False k-space Shape 불일치. F1:(10, 15, 640, 368), F2:(16, 15, 640, 372)\n",
      " knee     11     False k-space Shape 불일치. F1:(13, 15, 640, 368), F2:(12, 15, 640, 372)\n",
      " knee     12     False k-space Shape 불일치. F1:(10, 15, 640, 372), F2:(15, 15, 640, 368)\n",
      " knee     13     False k-space Shape 불일치. F1:(11, 15, 640, 372), F2:(13, 15, 640, 368)\n",
      " knee     14     False k-space Shape 불일치. F1:(10, 15, 640, 322), F2:(12, 15, 640, 372)\n",
      " knee     15     False k-space Shape 불일치. F1:(14, 15, 640, 372), F2:(12, 15, 640, 368)\n",
      " knee     16     False k-space Shape 불일치. F1:(14, 15, 640, 368), F2:(17, 15, 640, 368)\n",
      " knee     17     False k-space Shape 불일치. F1:(13, 15, 640, 368), F2:(10, 15, 640, 372)\n",
      " knee     18     False                                              k-space 샘플 데이터 불일치\n",
      " knee     19     False k-space Shape 불일치. F1:(13, 15, 640, 372), F2:(14, 15, 640, 368)\n",
      " knee     20     False k-space Shape 불일치. F1:(12, 15, 640, 368), F2:(13, 15, 640, 368)\n",
      " knee     21     False                                              k-space 샘플 데이터 불일치\n",
      " knee     22     False                                              k-space 샘플 데이터 불일치\n",
      " knee     23     False k-space Shape 불일치. F1:(13, 15, 640, 372), F2:(10, 15, 640, 372)\n",
      " knee     24     False k-space Shape 불일치. F1:(13, 15, 640, 368), F2:(11, 15, 640, 372)\n",
      " knee     25     False k-space Shape 불일치. F1:(12, 15, 640, 368), F2:(14, 15, 640, 368)\n",
      " knee     26     False k-space Shape 불일치. F1:(16, 15, 640, 368), F2:(14, 15, 640, 388)\n",
      " knee     27     False k-space Shape 불일치. F1:(10, 15, 640, 372), F2:(15, 15, 640, 368)\n",
      " knee     28     False k-space Shape 불일치. F1:(13, 15, 640, 368), F2:(13, 15, 640, 372)\n",
      " knee     29     False k-space Shape 불일치. F1:(18, 15, 640, 372), F2:(16, 15, 640, 368)\n",
      " knee     30     False k-space Shape 불일치. F1:(14, 15, 640, 372), F2:(12, 15, 640, 372)\n",
      " knee     31     False k-space Shape 불일치. F1:(12, 15, 640, 368), F2:(13, 15, 640, 368)\n",
      " knee     32     False k-space Shape 불일치. F1:(10, 15, 640, 372), F2:(14, 15, 640, 368)\n",
      " knee     33     False k-space Shape 불일치. F1:(15, 15, 640, 368), F2:(12, 15, 640, 368)\n",
      " knee     34     False                                              k-space 샘플 데이터 불일치\n",
      " knee     35     False k-space Shape 불일치. F1:(16, 15, 640, 372), F2:(14, 15, 640, 368)\n",
      " knee     36     False k-space Shape 불일치. F1:(15, 15, 640, 368), F2:(13, 15, 640, 368)\n",
      " knee     37     False k-space Shape 불일치. F1:(13, 15, 640, 372), F2:(13, 15, 640, 368)\n",
      " knee     38     False k-space Shape 불일치. F1:(13, 15, 640, 368), F2:(13, 15, 640, 372)\n",
      " knee     39     False k-space Shape 불일치. F1:(12, 15, 640, 322), F2:(15, 15, 640, 386)\n",
      " knee     40     False k-space Shape 불일치. F1:(15, 15, 640, 368), F2:(14, 15, 640, 368)\n",
      " knee     41     False k-space Shape 불일치. F1:(13, 15, 640, 368), F2:(20, 15, 640, 368)\n",
      " knee     42     False k-space Shape 불일치. F1:(10, 15, 640, 372), F2:(13, 15, 640, 372)\n",
      " knee     43     False k-space Shape 불일치. F1:(13, 15, 640, 368), F2:(10, 15, 640, 372)\n",
      " knee     44     False k-space Shape 불일치. F1:(17, 15, 640, 388), F2:(13, 15, 640, 368)\n",
      " knee     45     False k-space Shape 불일치. F1:(11, 15, 640, 372), F2:(12, 15, 640, 372)\n",
      " knee     46     False k-space Shape 불일치. F1:(14, 15, 640, 368), F2:(13, 15, 640, 368)\n",
      " knee     47     False k-space Shape 불일치. F1:(13, 15, 640, 372), F2:(14, 15, 640, 368)\n",
      " knee     48     False                                              k-space 샘플 데이터 불일치\n",
      " knee     49     False k-space Shape 불일치. F1:(12, 15, 640, 372), F2:(13, 15, 640, 368)\n",
      " knee     50     False k-space Shape 불일치. F1:(15, 15, 640, 368), F2:(13, 15, 640, 368)\n",
      " knee     51     False k-space Shape 불일치. F1:(10, 15, 640, 372), F2:(13, 15, 640, 368)\n",
      " knee     52     False k-space Shape 불일치. F1:(16, 15, 640, 368), F2:(12, 15, 640, 368)\n",
      " knee     53     False k-space Shape 불일치. F1:(18, 15, 640, 368), F2:(14, 15, 640, 386)\n",
      " knee     54     False k-space Shape 불일치. F1:(12, 15, 640, 368), F2:(11, 15, 640, 372)\n",
      " knee     55     False k-space Shape 불일치. F1:(13, 15, 640, 368), F2:(14, 15, 640, 368)\n",
      " knee     56     False k-space Shape 불일치. F1:(19, 15, 640, 480), F2:(12, 15, 640, 368)\n",
      " knee     57     False k-space Shape 불일치. F1:(13, 15, 640, 368), F2:(12, 15, 640, 368)\n",
      " knee     58     False k-space Shape 불일치. F1:(12, 15, 640, 372), F2:(12, 15, 640, 368)\n",
      " knee     59     False                                              k-space 샘플 데이터 불일치\n",
      " knee     60     False k-space Shape 불일치. F1:(12, 15, 640, 372), F2:(13, 15, 640, 368)\n",
      " knee     61     False k-space Shape 불일치. F1:(12, 15, 640, 320), F2:(13, 15, 640, 372)\n",
      " knee     62     False k-space Shape 불일치. F1:(14, 15, 640, 368), F2:(17, 15, 640, 368)\n",
      " knee     63     False k-space Shape 불일치. F1:(10, 15, 640, 372), F2:(13, 15, 640, 372)\n",
      " knee     64     False k-space Shape 불일치. F1:(11, 15, 640, 372), F2:(13, 15, 640, 372)\n",
      " knee     65     False k-space Shape 불일치. F1:(16, 15, 640, 368), F2:(13, 15, 640, 368)\n",
      " knee     66     False k-space Shape 불일치. F1:(12, 15, 640, 372), F2:(14, 15, 640, 368)\n",
      " knee     67     False                                              k-space 샘플 데이터 불일치\n",
      " knee     68     False k-space Shape 불일치. F1:(12, 15, 640, 372), F2:(10, 15, 640, 372)\n",
      " knee     69     False k-space Shape 불일치. F1:(16, 15, 640, 368), F2:(12, 15, 640, 372)\n",
      " knee     70     False k-space Shape 불일치. F1:(14, 15, 640, 368), F2:(12, 15, 640, 372)\n",
      " knee     71     False k-space Shape 불일치. F1:(10, 15, 640, 372), F2:(12, 15, 640, 372)\n",
      " knee     72     False k-space Shape 불일치. F1:(13, 15, 640, 368), F2:(18, 15, 640, 368)\n",
      " knee     73     False k-space Shape 불일치. F1:(12, 15, 640, 368), F2:(14, 15, 640, 368)\n",
      " knee     74     False k-space Shape 불일치. F1:(11, 15, 640, 368), F2:(15, 15, 640, 368)\n",
      " knee     75     False k-space Shape 불일치. F1:(13, 15, 640, 372), F2:(16, 15, 640, 368)\n",
      " knee     76     False k-space Shape 불일치. F1:(13, 15, 640, 368), F2:(14, 15, 640, 368)\n",
      " knee     77     False k-space Shape 불일치. F1:(14, 15, 640, 372), F2:(13, 15, 640, 338)\n",
      " knee     78     False k-space Shape 불일치. F1:(14, 15, 640, 368), F2:(13, 15, 640, 368)\n",
      " knee     79     False k-space Shape 불일치. F1:(11, 15, 640, 372), F2:(12, 15, 640, 372)\n",
      " knee     80     False k-space Shape 불일치. F1:(15, 15, 640, 368), F2:(12, 15, 640, 372)\n",
      " knee     81     False k-space Shape 불일치. F1:(15, 15, 640, 368), F2:(13, 15, 640, 368)\n",
      " knee     82     False k-space Shape 불일치. F1:(15, 15, 640, 368), F2:(13, 15, 640, 368)\n",
      " knee     83     False k-space Shape 불일치. F1:(13, 15, 640, 372), F2:(17, 15, 640, 368)\n",
      " knee     84     False k-space Shape 불일치. F1:(14, 15, 640, 368), F2:(10, 15, 640, 322)\n",
      " knee     85     False k-space Shape 불일치. F1:(11, 15, 640, 372), F2:(10, 15, 640, 372)\n"
     ]
    }
   ],
   "source": [
    "df_results = pd.DataFrame(verification_results)\n",
    "failed_scans = df_results[df_results['verified'] == False]\n",
    "\n",
    "if not failed_scans.empty:\n",
    "    print(\"--- 검증 실패 목록 ---\")\n",
    "    print(failed_scans.to_string(index=False))\n",
    "else:\n",
    "    print(\"모든 페어 검증에 성공하여 실패 목록이 없습니다.\")"
   ]
  },
  {
   "cell_type": "code",
   "execution_count": null,
   "metadata": {},
   "outputs": [],
   "source": []
  }
 ],
 "metadata": {
  "kernelspec": {
   "display_name": "fmri",
   "language": "python",
   "name": "python3"
  },
  "language_info": {
   "codemirror_mode": {
    "name": "ipython",
    "version": 3
   },
   "file_extension": ".py",
   "mimetype": "text/x-python",
   "name": "python",
   "nbconvert_exporter": "python",
   "pygments_lexer": "ipython3",
   "version": "3.10.18"
  }
 },
 "nbformat": 4,
 "nbformat_minor": 4
}
