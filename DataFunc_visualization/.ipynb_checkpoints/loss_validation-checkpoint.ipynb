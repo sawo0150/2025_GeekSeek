{
 "cells": [
  {
   "cell_type": "markdown",
   "metadata": {},
   "source": [
    "1) 공통 임포트 및 설정 셀"
   ]
  },
  {
   "cell_type": "code",
   "execution_count": 14,
   "metadata": {
    "vscode": {
     "languageId": "plaintext"
    }
   },
   "outputs": [
    {
     "name": "stdout",
     "output_type": "stream",
     "text": [
      "현재 작업 디렉터리(cwd): /home/swpants05/Desktop/2025_FastMri/2025_GeekSeek/DataFunc_visualization\n",
      "sys.path:\n",
      "  /home/swpants05/Desktop/2025_FastMri/2025_GeekSeek\n",
      "  /home/swpants05/Desktop/2025_FastMri/2025_GeekSeek\n",
      "  /home/swpants05/Desktop/2025_FastMri/2025_GeekSeek/DataFunc_visualization\n",
      "  /home/swpants05/Desktop/2025_FastMri/2025_GeekSeek\n",
      "  /home/swpants05/Desktop/2025_FastMri/2025_GeekSeek/DataFunc_visualization\n",
      "  /home/swpants05/Desktop/2025_FastMri/2025_GeekSeek\n",
      "  /home/swpants05/Desktop/2025_FastMri/2025_GeekSeek\n",
      "  \n",
      "  /opt/ros/humble/lib/python3.10/site-packages\n",
      "  /opt/ros/humble/local/lib/python3.10/dist-packages\n",
      "  /home/swpants05/Desktop/AgriProject_Innodrive/src/Grounded-SAM-2\n",
      "  /home/swpants05/.pyenv/versions/3.11.4/lib/python311.zip\n",
      "  /home/swpants05/.pyenv/versions/3.11.4/lib/python3.11\n",
      "  /home/swpants05/.pyenv/versions/3.11.4/lib/python3.11/lib-dynload\n",
      "  /home/swpants05/.pyenv/versions/3.11.4/lib/python3.11/site-packages\n",
      "  /home/swpants05/Desktop/2025_FastMri/2025_GeekSeek\n",
      "  /home/swpants05/Desktop/2025_FastMri/2025_GeekSeek\n",
      "False\n",
      "▶ PYTHONPATH에 추가된 경로: /home/swpants05/Desktop/2025_FastMri/2025_GeekSeek\n"
     ]
    },
    {
     "ename": "ModuleNotFoundError",
     "evalue": "No module named 'utils.common'",
     "output_type": "error",
     "traceback": [
      "\u001b[31m---------------------------------------------------------------------------\u001b[39m",
      "\u001b[31mModuleNotFoundError\u001b[39m                       Traceback (most recent call last)",
      "\u001b[36mCell\u001b[39m\u001b[36m \u001b[39m\u001b[32mIn[14]\u001b[39m\u001b[32m, line 24\u001b[39m\n\u001b[32m     21\u001b[39m \u001b[38;5;28mprint\u001b[39m(\u001b[33m\"\u001b[39m\u001b[33m▶ PYTHONPATH에 추가된 경로:\u001b[39m\u001b[33m\"\u001b[39m, proj_root)\n\u001b[32m     23\u001b[39m \u001b[38;5;28;01mimport\u001b[39;00m\u001b[38;5;250m \u001b[39m\u001b[34;01mtorch\u001b[39;00m\n\u001b[32m---> \u001b[39m\u001b[32m24\u001b[39m \u001b[38;5;28;01mfrom\u001b[39;00m\u001b[38;5;250m \u001b[39m\u001b[34;01mutils\u001b[39;00m\u001b[34;01m.\u001b[39;00m\u001b[34;01mcommon\u001b[39;00m\u001b[34;01m.\u001b[39;00m\u001b[34;01mloss_function\u001b[39;00m\u001b[38;5;250m \u001b[39m\u001b[38;5;28;01mimport\u001b[39;00m (\n\u001b[32m     25\u001b[39m     L1Loss, SSIMLoss, MSSSIMLoss,\n\u001b[32m     26\u001b[39m     PSNRLoss, SSIML1Loss, MSSSIML1Loss\n\u001b[32m     27\u001b[39m )\n\u001b[32m     29\u001b[39m plt.rcParams[\u001b[33m'\u001b[39m\u001b[33mfigure.dpi\u001b[39m\u001b[33m'\u001b[39m] = \u001b[32m120\u001b[39m\n\u001b[32m     31\u001b[39m \u001b[38;5;66;03m# 데이터 디렉토리 (자신 환경에 맞게 수정)\u001b[39;00m\n",
      "\u001b[31mModuleNotFoundError\u001b[39m: No module named 'utils.common'"
     ]
    }
   ],
   "source": [
    "## 1) imports & global settings\n",
    "import os, glob, pathlib, sys\n",
    "from pathlib import Path\n",
    "import h5py\n",
    "import numpy as np\n",
    "import matplotlib.pyplot as plt\n",
    "\n",
    "\n",
    "\n",
    "print(\"현재 작업 디렉터리(cwd):\", Path().resolve())\n",
    "print(\"=== sys.path ===\")\n",
    "for p in sys.path[:5]:\n",
    "    print(\" \", p)\n",
    "\n",
    "# 노트북이 돌아가고 있는 cwd의 부모 폴더, 즉 2025_GeekSeek 을 잡아냅니다.\n",
    "proj_root = os.path.abspath(os.path.join(os.getcwd(), os.pardir))\n",
    "# utils/common 폴더가 실제로 거기에 있는지 확인 (디버깅용)\n",
    "assert os.path.isdir(os.path.join(proj_root, \"utils\", \"common\")), f\"{proj_root}/utils/common 이 없습니다\"\n",
    "# 맨 앞에 넣어두면 import 충돌 없이 안전합니다\n",
    "sys.path.insert(0, proj_root)\n",
    "print(\"▶ PYTHONPATH 최상단에 추가된 경로:\", proj_root)\n",
    "\n",
    "import torch\n",
    "from utils.common.loss_function import (\n",
    "    L1Loss, SSIMLoss, MSSSIMLoss,\n",
    "    PSNRLoss, SSIML1Loss, MSSSIML1Loss\n",
    ")\n",
    "\n",
    "plt.rcParams['figure.dpi'] = 120\n",
    "\n",
    "# 데이터 디렉토리 (자신 환경에 맞게 수정)\n",
    "DATA_DIR = \"/home/swpants05/Desktop/2025_FastMri/Data\" \n",
    "\n",
    "# train/val split에서/i 한두 개 파일만 테스트용으로 뽑아봅니다.\n",
    "# ex) trainmage/brain_acc4_1.h5, train/image/knee_acc8_1.h5\n",
    "TEST_FILES = {\n",
    "    \"brain_x4\": glob.glob(os.path.join(DATA_DIR, \"train\", \"image\", \"brain_acc4_*.h5\"))[:1],\n",
    "    \"knee_x8\":  glob.glob(os.path.join(DATA_DIR, \"train\", \"image\", \"knee_acc8_*.h5\"))[:1],\n",
    "}\n",
    "\n",
    "# leaderboard 평가 방식 threshold 매핑\n",
    "mask_thresholds = {\n",
    "    \"brain_x4\": 5e-5, \"brain_x8\": 5e-5,\n",
    "    \"knee_x4\": 2e-5,  \"knee_x8\": 2e-5,\n",
    "}\n"
   ]
  },
  {
   "cell_type": "markdown",
   "metadata": {},
   "source": [
    "2) 헬퍼 함수: HDF5에서 slice 불러오기 & 마스크 생성"
   ]
  },
  {
   "cell_type": "code",
   "execution_count": null,
   "metadata": {
    "vscode": {
     "languageId": "plaintext"
    }
   },
   "outputs": [],
   "source": [
    "## 2) helper functions\n",
    "import cv2\n",
    "from utils.common.loss_function import _get_threshold  # 내부 함수\n",
    "\n",
    "def load_slice(h5_path, slice_idx=0):\n",
    "    \"\"\"HDF5에서 target(volume)과 max 값을 꺼내 한 장의 slice와 data_range 반환\"\"\"\n",
    "    with h5py.File(h5_path, \"r\") as f:\n",
    "        vol = f[\"image_label\"][:]            # (S, H, W)\n",
    "        data_range = f.attrs[\"max\"]          # per-volume max\n",
    "    return vol[slice_idx], float(data_range)\n",
    "\n",
    "def make_mask(target_slice, cat, thr_map):\n",
    "    \"\"\"leaderboard 방식으로 threshold→morphology→mask 반환\"\"\"\n",
    "    thr = _get_threshold(thr_map, cat)\n",
    "    m = (target_slice > thr).astype(np.uint8)\n",
    "    kernel = np.ones((3,3), np.uint8)\n",
    "    m = cv2.erode(m, kernel, iterations=1)\n",
    "    m = cv2.dilate(m, kernel, iterations=15)\n",
    "    m = cv2.erode(m, kernel, iterations=14)\n",
    "    return m\n"
   ]
  },
  {
   "cell_type": "markdown",
   "metadata": {},
   "source": [
    "3) 마스크 시각화 확인"
   ]
  },
  {
   "cell_type": "code",
   "execution_count": null,
   "metadata": {
    "vscode": {
     "languageId": "plaintext"
    }
   },
   "outputs": [],
   "source": [
    "## 3) visualize mask on a couple of samples\n",
    "fig, axes = plt.subplots(len(TEST_FILES), 2, figsize=(8,4*len(TEST_FILES)))\n",
    "for i, (cat, paths) in enumerate(TEST_FILES.items()):\n",
    "    p = paths[0]\n",
    "    slc, dr = load_slice(p, 0)\n",
    "    mask = make_mask(slc, cat, mask_thresholds)\n",
    "    ax1, ax2 = axes[i]\n",
    "    ax1.imshow(slc, cmap=\"gray\")\n",
    "    ax1.set_title(f\"{os.path.basename(p)} | cat={cat}\")\n",
    "    ax2.imshow(slc, cmap=\"gray\")\n",
    "    ax2.contour(mask, colors=\"r\", linewidths=0.5)\n",
    "    ax2.set_title(\"with mask overlay\")\n",
    "plt.tight_layout()\n",
    "plt.show()\n"
   ]
  },
  {
   "cell_type": "markdown",
   "metadata": {},
   "source": [
    "4) 모든 Loss 클래스 인스턴스화"
   ]
  },
  {
   "cell_type": "code",
   "execution_count": null,
   "metadata": {
    "vscode": {
     "languageId": "plaintext"
    }
   },
   "outputs": [],
   "source": [
    "## 4) instantiate all losses\n",
    "losses = {\n",
    "    \"L1\"        : L1Loss(mask_threshold=mask_thresholds, mask_only=True),\n",
    "    \"SSIM\"      : SSIMLoss(mask_threshold=mask_thresholds, mask_only=True),\n",
    "    \"MS-SSIM\"   : MSSSIMLoss(mask_threshold=mask_thresholds, mask_only=True),\n",
    "    \"PSNR\"      : PSNRLoss(mask_threshold=mask_thresholds, mask_only=True),\n",
    "    \"SSIM+L1\"   : SSIML1Loss(weight_ssim=1.0, weight_l1=1.0,\n",
    "                             mask_threshold=mask_thresholds, mask_only=True),\n",
    "    \"MS-SSIM+L1\": MSSSIML1Loss(weight_ms_ssim=1.0, weight_l1=1.0,\n",
    "                              mask_threshold=mask_thresholds, mask_only=True),\n",
    "}\n",
    "\n",
    "# to GPU if available\n",
    "device = torch.device(\"cuda\" if torch.cuda.is_available() else \"cpu\")\n",
    "for L in losses.values():\n",
    "    L.to(device)\n"
   ]
  },
  {
   "cell_type": "markdown",
   "metadata": {},
   "source": [
    "5) 단일 slice에 대해 Loss 값 계산 & DataFrame 정리"
   ]
  },
  {
   "cell_type": "code",
   "execution_count": null,
   "metadata": {
    "vscode": {
     "languageId": "plaintext"
    }
   },
   "outputs": [],
   "source": [
    "## 5) compute losses on sample slices\n",
    "import pandas as pd\n",
    "\n",
    "records = []\n",
    "for cat, paths in TEST_FILES.items():\n",
    "    for p in paths:\n",
    "        slc, dr = load_slice(p, 0)\n",
    "        mask = make_mask(slc, cat, mask_thresholds)\n",
    "        # to tensor\n",
    "        tgt = torch.from_numpy(slc).to(device)\n",
    "        # mask float tensor [H,W]\n",
    "        msk = torch.from_numpy(mask).to(device).float()\n",
    "        # masked target\n",
    "        tgt_m = tgt * msk\n",
    "\n",
    "        for name, L in losses.items():\n",
    "            # forward expects output and target; 여기선 output==target 으로 테스트\n",
    "            loss_val = L(tgt, tgt, dr, cats=cat).item()\n",
    "            # metric 상 ssim 값은 1-SSIMLoss\n",
    "            if name in (\"SSIM\",\"MS-SSIM\",\"SSIM+L1\",\"MS-SSIM+L1\"):\n",
    "                # compute raw ssim loss\n",
    "                sl = L if \"L1\" not in name else L.ssim_base\n",
    "                ssim_loss_val = sl(tgt, tgt, dr, cats=cat).item()\n",
    "                ssim_val = 1 - ssim_loss_val\n",
    "            else:\n",
    "                ssim_val = np.nan\n",
    "            records.append({\n",
    "                \"file\": os.path.basename(p),\n",
    "                \"cat\": cat,\n",
    "                \"loss_type\": name,\n",
    "                \"loss_value\": loss_val,\n",
    "                \"ssim_metric\": ssim_val\n",
    "            })\n",
    "\n",
    "df = pd.DataFrame(records)\n",
    "df_pivot = df.pivot(index=[\"file\",\"cat\"], columns=\"loss_type\", values=\"loss_value\")\n",
    "display(df_pivot)\n"
   ]
  },
  {
   "cell_type": "markdown",
   "metadata": {},
   "source": [
    "6) 결과 시각화"
   ]
  },
  {
   "cell_type": "code",
   "execution_count": null,
   "metadata": {
    "vscode": {
     "languageId": "plaintext"
    }
   },
   "outputs": [],
   "source": [
    "## 6) bar plot of all loss values (per sample)\n",
    "plt.figure(figsize=(10,6))\n",
    "df_plot = df[df.loss_type==\"L1\"].copy()  # just pick one cat if you like\n",
    "for name in losses:\n",
    "    vals = df[df.loss_type==name][\"loss_value\"].values\n",
    "    plt.bar(np.arange(len(vals)) + list(losses).index(name)*0.15,\n",
    "            vals, width=0.15, label=name)\n",
    "plt.xticks([])\n",
    "plt.legend()\n",
    "plt.title(\"Sample slice losses by type\")\n",
    "plt.show()"
   ]
  }
 ],
 "metadata": {
  "kernelspec": {
   "display_name": "Python 3 (ipykernel)",
   "language": "python",
   "name": "python3"
  },
  "language_info": {
   "codemirror_mode": {
    "name": "ipython",
    "version": 3
   },
   "file_extension": ".py",
   "mimetype": "text/x-python",
   "name": "python",
   "nbconvert_exporter": "python",
   "pygments_lexer": "ipython3",
   "version": "3.11.4"
  }
 },
 "nbformat": 4,
 "nbformat_minor": 4
}
