{
 "cells": [
  {
   "cell_type": "markdown",
   "id": "6f8d7a03",
   "metadata": {},
   "source": [
    "# Vis Logger Demo Notebook\n",
    "### ⬛⬛ 1. 경로/모듈 세팅 -------------------------------------------------"
   ]
  },
  {
   "cell_type": "code",
   "execution_count": null,
   "id": "7be6e6d0",
   "metadata": {},
   "outputs": [],
   "source": [
    "import sys, pathlib, h5py, numpy as np, matplotlib.pyplot as plt\n",
    "code_ROOT = pathlib.Path(\"../..\").resolve()          # 프로젝트 최상위 폴더\n",
    "ROOT = pathlib.Path(\"../../..\").resolve()          # 프로젝트 최상위 폴더\n",
    "print(ROOT)\n",
    "sys.path.append(str(code_ROOT))\n",
    "\n",
    "from utils.logging.vis_logger import make_figure, _cat_from_fname\n"
   ]
  },
  {
   "cell_type": "markdown",
   "id": "3d60b3d7",
   "metadata": {},
   "source": [
    "### ⬛⬛ 2. 샘플 파일 로드 --------------------------------------------------"
   ]
  },
  {
   "cell_type": "code",
   "execution_count": null,
   "id": "d23c37fa",
   "metadata": {},
   "outputs": [],
   "source": [
    "img_h5 = ROOT / \"Data/train/image/brain_acc4_2.h5\"   # 원하는 파일\n",
    "with h5py.File(img_h5, \"r\") as hf:\n",
    "    gt    = hf[\"image_label\"][8]     # (= fully-sampled)   slice #8 예시\n",
    "    recon = hf[\"image_input\"][8]     # (= undersampled Rec)\n",
    "print(gt.shape)\n",
    "print(recon.shape)"
   ]
  },
  {
   "cell_type": "markdown",
   "id": "0befa6ea",
   "metadata": {},
   "source": [
    "### ⬛⬛ 3. Figure 생성 & 확인 ---------------------------------------------"
   ]
  },
  {
   "cell_type": "code",
   "execution_count": null,
   "id": "24765516",
   "metadata": {},
   "outputs": [],
   "source": [
    "fig = make_figure(np.abs(gt), np.abs(recon),\n",
    "                  np.angle(gt), np.angle(recon),\n",
    "                  title=f\"{_cat_from_fname(img_h5.name)} | demo slice 8\")\n",
    "plt.show()"
   ]
  }
 ],
 "metadata": {
  "kernelspec": {
   "display_name": "base",
   "language": "python",
   "name": "python3"
  },
  "language_info": {
   "name": "python",
   "version": "3.12.4"
  }
 },
 "nbformat": 4,
 "nbformat_minor": 5
}
